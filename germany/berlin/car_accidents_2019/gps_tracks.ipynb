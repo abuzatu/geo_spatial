{
 "cells": [
  {
   "cell_type": "markdown",
   "metadata": {},
   "source": [
    "# Study GPS tracks\n",
    "\n",
    "* TowardsDataScience: [Build Interactive GPS activity maps from GPX files using Folium](https://towardsdatascience.com/build-interactive-gps-activity-maps-from-gpx-files-using-folium-cf9eebba1fe7) with [code here](https://github.com/datachico/gpx_to_folium_maps/blob/master/folium_maps_From_GPX.ipynb)\n",
    "\n",
    "* TowardsDataScience: [Spain’s strict COVID lockdown visualized with Folium maps, mobile GPS data, and Geo JSON](https://towardsdatascience.com/spains-strict-covid-lockdown-visualized-with-folium-maps-mobile-gps-data-gpx-tracks-and-geo-9628e39bfa0e) with [code here](https://github.com/datachico/lockdown_maps_GPS_GPX/blob/master/lockdown_maps_GPS_GPX.ipynb)\n",
    "\n",
    "An example code to be added here later."
   ]
  },
  {
   "cell_type": "markdown",
   "metadata": {},
   "source": []
  }
 ],
 "metadata": {
  "kernelspec": {
   "display_name": "Python 3",
   "language": "python",
   "name": "python3"
  },
  "language_info": {
   "codemirror_mode": {
    "name": "ipython",
    "version": 3
   },
   "file_extension": ".py",
   "mimetype": "text/x-python",
   "name": "python",
   "nbconvert_exporter": "python",
   "pygments_lexer": "ipython3",
   "version": "3.9.0"
  }
 },
 "nbformat": 4,
 "nbformat_minor": 4
}
