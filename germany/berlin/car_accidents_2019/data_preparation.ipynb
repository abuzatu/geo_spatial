{
 "cells": [
  {
   "cell_type": "markdown",
   "metadata": {},
   "source": [
    "# Car accidents in Berlin, Germany, in 2019 \n",
    "\n",
    "Public data is described at [Daten.Berlin.de](https://daten.berlin.de/datensaetze/strassenverkehrsunf%C3%A4lle-nach-unfallort-berlin-2019)"
   ]
  },
  {
   "cell_type": "code",
   "execution_count": 1,
   "metadata": {},
   "outputs": [],
   "source": [
    "INPUT_FOLDER_NAME = \"/Users/abuzatu/Work/data/geo_spatial/Germany/Berlin/Accidents_Car_2019\"\n",
    "INPUT_FILE_NAME = f\"{INPUT_FOLDER_NAME}/AfSBBB_BE_LOR_Strasse_Strassenverkehrsunfaelle_2019_Datensatz.csv\"\n",
    "\n",
    "OUTPUT_FILE_NAME_STEM = f\"{INPUT_FOLDER_NAME}/berlin_2019_car_accidents\""
   ]
  },
  {
   "cell_type": "code",
   "execution_count": 2,
   "metadata": {},
   "outputs": [],
   "source": [
    "import numpy as np\n",
    "import pandas as pd\n",
    "import geopandas as gpd\n",
    "import matplotlib.pyplot as plt"
   ]
  },
  {
   "cell_type": "code",
   "execution_count": 3,
   "metadata": {},
   "outputs": [
    {
     "data": {
      "text/html": [
       "<div>\n",
       "<style scoped>\n",
       "    .dataframe tbody tr th:only-of-type {\n",
       "        vertical-align: middle;\n",
       "    }\n",
       "\n",
       "    .dataframe tbody tr th {\n",
       "        vertical-align: top;\n",
       "    }\n",
       "\n",
       "    .dataframe thead th {\n",
       "        text-align: right;\n",
       "    }\n",
       "</style>\n",
       "<table border=\"1\" class=\"dataframe\">\n",
       "  <thead>\n",
       "    <tr style=\"text-align: right;\">\n",
       "      <th></th>\n",
       "      <th>OBJECTID</th>\n",
       "      <th>LAND</th>\n",
       "      <th>BEZ</th>\n",
       "      <th>LOR</th>\n",
       "      <th>STRASSE</th>\n",
       "      <th>UJAHR</th>\n",
       "      <th>UMONAT</th>\n",
       "      <th>USTUNDE</th>\n",
       "      <th>UWOCHENTAG</th>\n",
       "      <th>UKATEGORIE</th>\n",
       "      <th>...</th>\n",
       "      <th>IstPKW</th>\n",
       "      <th>IstFuss</th>\n",
       "      <th>IstKrad</th>\n",
       "      <th>IstGkfz</th>\n",
       "      <th>IstSonstige</th>\n",
       "      <th>USTRZUSTAND</th>\n",
       "      <th>LINREFX</th>\n",
       "      <th>LINREFY</th>\n",
       "      <th>XGCSWGS84</th>\n",
       "      <th>YGCSWGS84</th>\n",
       "    </tr>\n",
       "  </thead>\n",
       "  <tbody>\n",
       "    <tr>\n",
       "      <th>0</th>\n",
       "      <td>49090</td>\n",
       "      <td>11</td>\n",
       "      <td>12</td>\n",
       "      <td>12301203</td>\n",
       "      <td>Wittenau Süd</td>\n",
       "      <td>2019</td>\n",
       "      <td>1</td>\n",
       "      <td>13</td>\n",
       "      <td>6</td>\n",
       "      <td>3</td>\n",
       "      <td>...</td>\n",
       "      <td>1</td>\n",
       "      <td>0</td>\n",
       "      <td>0</td>\n",
       "      <td>0</td>\n",
       "      <td>0</td>\n",
       "      <td>1</td>\n",
       "      <td>794062,2837</td>\n",
       "      <td>5835083,823</td>\n",
       "      <td>13,34146</td>\n",
       "      <td>52,58609</td>\n",
       "    </tr>\n",
       "    <tr>\n",
       "      <th>1</th>\n",
       "      <td>49091</td>\n",
       "      <td>11</td>\n",
       "      <td>3</td>\n",
       "      <td>3040818</td>\n",
       "      <td>Pankow Süd</td>\n",
       "      <td>2019</td>\n",
       "      <td>1</td>\n",
       "      <td>9</td>\n",
       "      <td>5</td>\n",
       "      <td>3</td>\n",
       "      <td>...</td>\n",
       "      <td>1</td>\n",
       "      <td>0</td>\n",
       "      <td>0</td>\n",
       "      <td>0</td>\n",
       "      <td>0</td>\n",
       "      <td>0</td>\n",
       "      <td>799130,4007</td>\n",
       "      <td>5832327,415</td>\n",
       "      <td>13,41356</td>\n",
       "      <td>52,55862</td>\n",
       "    </tr>\n",
       "    <tr>\n",
       "      <th>2</th>\n",
       "      <td>49093</td>\n",
       "      <td>11</td>\n",
       "      <td>12</td>\n",
       "      <td>12103115</td>\n",
       "      <td>Breitkopfbecken</td>\n",
       "      <td>2019</td>\n",
       "      <td>3</td>\n",
       "      <td>21</td>\n",
       "      <td>6</td>\n",
       "      <td>3</td>\n",
       "      <td>...</td>\n",
       "      <td>0</td>\n",
       "      <td>0</td>\n",
       "      <td>0</td>\n",
       "      <td>0</td>\n",
       "      <td>0</td>\n",
       "      <td>0</td>\n",
       "      <td>795437,613</td>\n",
       "      <td>5833549,454</td>\n",
       "      <td>13,36034</td>\n",
       "      <td>52,57159</td>\n",
       "    </tr>\n",
       "    <tr>\n",
       "      <th>3</th>\n",
       "      <td>49096</td>\n",
       "      <td>11</td>\n",
       "      <td>6</td>\n",
       "      <td>6040703</td>\n",
       "      <td>Nikolassee</td>\n",
       "      <td>2019</td>\n",
       "      <td>1</td>\n",
       "      <td>7</td>\n",
       "      <td>6</td>\n",
       "      <td>2</td>\n",
       "      <td>...</td>\n",
       "      <td>1</td>\n",
       "      <td>1</td>\n",
       "      <td>0</td>\n",
       "      <td>0</td>\n",
       "      <td>0</td>\n",
       "      <td>1</td>\n",
       "      <td>786714,3754</td>\n",
       "      <td>5817042,137</td>\n",
       "      <td>13,21777</td>\n",
       "      <td>52,42825</td>\n",
       "    </tr>\n",
       "    <tr>\n",
       "      <th>4</th>\n",
       "      <td>49097</td>\n",
       "      <td>11</td>\n",
       "      <td>7</td>\n",
       "      <td>7030303</td>\n",
       "      <td>Grazer Platz</td>\n",
       "      <td>2019</td>\n",
       "      <td>2</td>\n",
       "      <td>15</td>\n",
       "      <td>3</td>\n",
       "      <td>3</td>\n",
       "      <td>...</td>\n",
       "      <td>1</td>\n",
       "      <td>0</td>\n",
       "      <td>0</td>\n",
       "      <td>0</td>\n",
       "      <td>0</td>\n",
       "      <td>0</td>\n",
       "      <td>796074,3342</td>\n",
       "      <td>5822724,905</td>\n",
       "      <td>13,36007</td>\n",
       "      <td>52,47421</td>\n",
       "    </tr>\n",
       "    <tr>\n",
       "      <th>...</th>\n",
       "      <td>...</td>\n",
       "      <td>...</td>\n",
       "      <td>...</td>\n",
       "      <td>...</td>\n",
       "      <td>...</td>\n",
       "      <td>...</td>\n",
       "      <td>...</td>\n",
       "      <td>...</td>\n",
       "      <td>...</td>\n",
       "      <td>...</td>\n",
       "      <td>...</td>\n",
       "      <td>...</td>\n",
       "      <td>...</td>\n",
       "      <td>...</td>\n",
       "      <td>...</td>\n",
       "      <td>...</td>\n",
       "      <td>...</td>\n",
       "      <td>...</td>\n",
       "      <td>...</td>\n",
       "      <td>...</td>\n",
       "      <td>...</td>\n",
       "    </tr>\n",
       "    <tr>\n",
       "      <th>13385</th>\n",
       "      <td>202775</td>\n",
       "      <td>11</td>\n",
       "      <td>1</td>\n",
       "      <td>1011303</td>\n",
       "      <td>Alexanderplatzviertel</td>\n",
       "      <td>2019</td>\n",
       "      <td>12</td>\n",
       "      <td>15</td>\n",
       "      <td>2</td>\n",
       "      <td>3</td>\n",
       "      <td>...</td>\n",
       "      <td>1</td>\n",
       "      <td>1</td>\n",
       "      <td>0</td>\n",
       "      <td>0</td>\n",
       "      <td>0</td>\n",
       "      <td>0</td>\n",
       "      <td>799498,019</td>\n",
       "      <td>5828344,449</td>\n",
       "      <td>13,41538</td>\n",
       "      <td>52,52271</td>\n",
       "    </tr>\n",
       "    <tr>\n",
       "      <th>13386</th>\n",
       "      <td>202776</td>\n",
       "      <td>11</td>\n",
       "      <td>1</td>\n",
       "      <td>1011201</td>\n",
       "      <td>Wilhelmstraße</td>\n",
       "      <td>2019</td>\n",
       "      <td>12</td>\n",
       "      <td>14</td>\n",
       "      <td>2</td>\n",
       "      <td>3</td>\n",
       "      <td>...</td>\n",
       "      <td>1</td>\n",
       "      <td>0</td>\n",
       "      <td>0</td>\n",
       "      <td>0</td>\n",
       "      <td>0</td>\n",
       "      <td>0</td>\n",
       "      <td>797455,1835</td>\n",
       "      <td>5827060,276</td>\n",
       "      <td>13,38421</td>\n",
       "      <td>52,51232</td>\n",
       "    </tr>\n",
       "    <tr>\n",
       "      <th>13387</th>\n",
       "      <td>202777</td>\n",
       "      <td>11</td>\n",
       "      <td>1</td>\n",
       "      <td>1011304</td>\n",
       "      <td>Karl-Marx-Allee</td>\n",
       "      <td>2019</td>\n",
       "      <td>12</td>\n",
       "      <td>14</td>\n",
       "      <td>2</td>\n",
       "      <td>3</td>\n",
       "      <td>...</td>\n",
       "      <td>1</td>\n",
       "      <td>0</td>\n",
       "      <td>0</td>\n",
       "      <td>0</td>\n",
       "      <td>1</td>\n",
       "      <td>0</td>\n",
       "      <td>799730,882</td>\n",
       "      <td>5827547,138</td>\n",
       "      <td>13,41808</td>\n",
       "      <td>52,51544</td>\n",
       "    </tr>\n",
       "    <tr>\n",
       "      <th>13388</th>\n",
       "      <td>202778</td>\n",
       "      <td>11</td>\n",
       "      <td>11</td>\n",
       "      <td>11030721</td>\n",
       "      <td>Rüdigerstraße</td>\n",
       "      <td>2019</td>\n",
       "      <td>12</td>\n",
       "      <td>18</td>\n",
       "      <td>4</td>\n",
       "      <td>2</td>\n",
       "      <td>...</td>\n",
       "      <td>1</td>\n",
       "      <td>0</td>\n",
       "      <td>1</td>\n",
       "      <td>0</td>\n",
       "      <td>0</td>\n",
       "      <td>0</td>\n",
       "      <td>805189,971</td>\n",
       "      <td>5827912,648</td>\n",
       "      <td>13,49862</td>\n",
       "      <td>52,51569</td>\n",
       "    </tr>\n",
       "    <tr>\n",
       "      <th>13389</th>\n",
       "      <td>202779</td>\n",
       "      <td>11</td>\n",
       "      <td>1</td>\n",
       "      <td>1011202</td>\n",
       "      <td>Unter den Linden Nord</td>\n",
       "      <td>2019</td>\n",
       "      <td>12</td>\n",
       "      <td>14</td>\n",
       "      <td>4</td>\n",
       "      <td>3</td>\n",
       "      <td>...</td>\n",
       "      <td>1</td>\n",
       "      <td>0</td>\n",
       "      <td>0</td>\n",
       "      <td>0</td>\n",
       "      <td>0</td>\n",
       "      <td>0</td>\n",
       "      <td>797197,6797</td>\n",
       "      <td>5827499,898</td>\n",
       "      <td>13,38082</td>\n",
       "      <td>52,5164</td>\n",
       "    </tr>\n",
       "  </tbody>\n",
       "</table>\n",
       "<p>13390 rows × 24 columns</p>\n",
       "</div>"
      ],
      "text/plain": [
       "       OBJECTID  LAND  BEZ       LOR                STRASSE  UJAHR  UMONAT  \\\n",
       "0         49090    11   12  12301203           Wittenau Süd   2019       1   \n",
       "1         49091    11    3   3040818             Pankow Süd   2019       1   \n",
       "2         49093    11   12  12103115        Breitkopfbecken   2019       3   \n",
       "3         49096    11    6   6040703             Nikolassee   2019       1   \n",
       "4         49097    11    7   7030303           Grazer Platz   2019       2   \n",
       "...         ...   ...  ...       ...                    ...    ...     ...   \n",
       "13385    202775    11    1   1011303  Alexanderplatzviertel   2019      12   \n",
       "13386    202776    11    1   1011201          Wilhelmstraße   2019      12   \n",
       "13387    202777    11    1   1011304        Karl-Marx-Allee   2019      12   \n",
       "13388    202778    11   11  11030721          Rüdigerstraße   2019      12   \n",
       "13389    202779    11    1   1011202  Unter den Linden Nord   2019      12   \n",
       "\n",
       "       USTUNDE  UWOCHENTAG  UKATEGORIE  ...  IstPKW  IstFuss  IstKrad  \\\n",
       "0           13           6           3  ...       1        0        0   \n",
       "1            9           5           3  ...       1        0        0   \n",
       "2           21           6           3  ...       0        0        0   \n",
       "3            7           6           2  ...       1        1        0   \n",
       "4           15           3           3  ...       1        0        0   \n",
       "...        ...         ...         ...  ...     ...      ...      ...   \n",
       "13385       15           2           3  ...       1        1        0   \n",
       "13386       14           2           3  ...       1        0        0   \n",
       "13387       14           2           3  ...       1        0        0   \n",
       "13388       18           4           2  ...       1        0        1   \n",
       "13389       14           4           3  ...       1        0        0   \n",
       "\n",
       "       IstGkfz  IstSonstige  USTRZUSTAND      LINREFX      LINREFY XGCSWGS84  \\\n",
       "0            0            0            1  794062,2837  5835083,823  13,34146   \n",
       "1            0            0            0  799130,4007  5832327,415  13,41356   \n",
       "2            0            0            0   795437,613  5833549,454  13,36034   \n",
       "3            0            0            1  786714,3754  5817042,137  13,21777   \n",
       "4            0            0            0  796074,3342  5822724,905  13,36007   \n",
       "...        ...          ...          ...          ...          ...       ...   \n",
       "13385        0            0            0   799498,019  5828344,449  13,41538   \n",
       "13386        0            0            0  797455,1835  5827060,276  13,38421   \n",
       "13387        0            1            0   799730,882  5827547,138  13,41808   \n",
       "13388        0            0            0   805189,971  5827912,648  13,49862   \n",
       "13389        0            0            0  797197,6797  5827499,898  13,38082   \n",
       "\n",
       "      YGCSWGS84  \n",
       "0      52,58609  \n",
       "1      52,55862  \n",
       "2      52,57159  \n",
       "3      52,42825  \n",
       "4      52,47421  \n",
       "...         ...  \n",
       "13385  52,52271  \n",
       "13386  52,51232  \n",
       "13387  52,51544  \n",
       "13388  52,51569  \n",
       "13389   52,5164  \n",
       "\n",
       "[13390 rows x 24 columns]"
      ]
     },
     "execution_count": 3,
     "metadata": {},
     "output_type": "execute_result"
    }
   ],
   "source": [
    "df = pd.read_csv(f\"{INPUT_FILE_NAME}\", sep=\";\", encoding = \"ISO-8859-1\")\n",
    "df"
   ]
  },
  {
   "cell_type": "code",
   "execution_count": 4,
   "metadata": {},
   "outputs": [
    {
     "data": {
      "text/plain": [
       "(13390, 24)"
      ]
     },
     "execution_count": 4,
     "metadata": {},
     "output_type": "execute_result"
    }
   ],
   "source": [
    "df.shape"
   ]
  },
  {
   "cell_type": "code",
   "execution_count": 5,
   "metadata": {},
   "outputs": [
    {
     "data": {
      "text/plain": [
       "OBJECTID        int64\n",
       "LAND            int64\n",
       "BEZ             int64\n",
       "LOR             int64\n",
       "STRASSE        object\n",
       "UJAHR           int64\n",
       "UMONAT          int64\n",
       "USTUNDE         int64\n",
       "UWOCHENTAG      int64\n",
       "UKATEGORIE      int64\n",
       "UART            int64\n",
       "UTYP1           int64\n",
       "ULICHTVERH      int64\n",
       "IstRad          int64\n",
       "IstPKW          int64\n",
       "IstFuss         int64\n",
       "IstKrad         int64\n",
       "IstGkfz         int64\n",
       "IstSonstige    object\n",
       "USTRZUSTAND    object\n",
       "LINREFX        object\n",
       "LINREFY        object\n",
       "XGCSWGS84      object\n",
       "YGCSWGS84      object\n",
       "dtype: object"
      ]
     },
     "execution_count": 5,
     "metadata": {},
     "output_type": "execute_result"
    }
   ],
   "source": [
    "df.dtypes"
   ]
  },
  {
   "cell_type": "markdown",
   "metadata": {},
   "source": [
    "# Meaning of variables\n",
    "\n",
    "From the [metadata description](https://www.statistik-berlin-brandenburg.de/opendata/AfSBBB_BE_LOR_Strasse_Strassenverkehrsunfaelle_2019_Datensatzbeschreibung.pdf) in German, let's explore the data and describe in English what the variables and their values mean."
   ]
  },
  {
   "cell_type": "markdown",
   "metadata": {},
   "source": [
    "Land is 11, so Berlin, same in all this data."
   ]
  },
  {
   "cell_type": "markdown",
   "metadata": {},
   "source": [
    "BEZ means Bezirk, or neighborhood, described [here](https://www.statistik-berlin-brandenburg.de/regionales/rbs/lor.asp?Kat=4003). The geopandas polygons is not yet present, but we will get it from somewhere else later to be able to count and plot how many accidents are in each neighborhood. The number of accidents in each neighborhood. \n",
    "\n",
    "LOR seems to be some area within the neighborhood."
   ]
  },
  {
   "cell_type": "code",
   "execution_count": 6,
   "metadata": {},
   "outputs": [
    {
     "data": {
      "text/plain": [
       "1     2215\n",
       "4     1727\n",
       "2     1381\n",
       "7     1241\n",
       "3     1219\n",
       "8      934\n",
       "9      892\n",
       "12     867\n",
       "6      851\n",
       "5      798\n",
       "11     679\n",
       "10     586\n",
       "Name: BEZ, dtype: int64"
      ]
     },
     "execution_count": 6,
     "metadata": {},
     "output_type": "execute_result"
    }
   ],
   "source": [
    "df.BEZ.value_counts()"
   ]
  },
  {
   "cell_type": "markdown",
   "metadata": {},
   "source": [
    "STRASSE = Street Name\n",
    "\n",
    "UJAHR = year, here only 2019 for all data\n",
    "\n",
    "UMONAT = month of the year as number from 1 to 12\n",
    "\n",
    "USTUNDE = hour of the day as number from 0 to 23\n",
    "\n",
    "UWOCHENTAG = day of the weak, with Sun = 1, Mon = 2, Tue = 3, ..., Fri = 6, Sat = 7"
   ]
  },
  {
   "cell_type": "code",
   "execution_count": 7,
   "metadata": {},
   "outputs": [
    {
     "data": {
      "text/plain": [
       "2019    13390\n",
       "Name: UJAHR, dtype: int64"
      ]
     },
     "execution_count": 7,
     "metadata": {},
     "output_type": "execute_result"
    }
   ],
   "source": [
    "df.UJAHR.value_counts()"
   ]
  },
  {
   "cell_type": "code",
   "execution_count": 8,
   "metadata": {},
   "outputs": [
    {
     "data": {
      "text/plain": [
       "6     1448\n",
       "8     1371\n",
       "9     1270\n",
       "10    1214\n",
       "5     1207\n",
       "7     1175\n",
       "4     1104\n",
       "11    1081\n",
       "12     936\n",
       "3      907\n",
       "1      891\n",
       "2      786\n",
       "Name: UMONAT, dtype: int64"
      ]
     },
     "execution_count": 8,
     "metadata": {},
     "output_type": "execute_result"
    }
   ],
   "source": [
    "# most accidents in warm months of the year\n",
    "df.UMONAT.value_counts()"
   ]
  },
  {
   "cell_type": "code",
   "execution_count": 9,
   "metadata": {},
   "outputs": [
    {
     "data": {
      "text/plain": [
       "16    1158\n",
       "15    1120\n",
       "17    1110\n",
       "14     969\n",
       "18     930\n",
       "13     854\n",
       "8      800\n",
       "9      786\n",
       "12     780\n",
       "11     718\n",
       "10     703\n",
       "7      682\n",
       "19     681\n",
       "20     446\n",
       "6      329\n",
       "21     319\n",
       "22     254\n",
       "23     187\n",
       "5      163\n",
       "0      120\n",
       "1      100\n",
       "2       62\n",
       "3       61\n",
       "4       58\n",
       "Name: USTUNDE, dtype: int64"
      ]
     },
     "execution_count": 9,
     "metadata": {},
     "output_type": "execute_result"
    }
   ],
   "source": [
    "# most accidents in the afternoon\n",
    "df.USTUNDE.value_counts()"
   ]
  },
  {
   "cell_type": "code",
   "execution_count": 10,
   "metadata": {},
   "outputs": [
    {
     "data": {
      "text/plain": [
       "3    2248\n",
       "4    2234\n",
       "5    2180\n",
       "2    2131\n",
       "6    2115\n",
       "7    1494\n",
       "1     988\n",
       "Name: UWOCHENTAG, dtype: int64"
      ]
     },
     "execution_count": 10,
     "metadata": {},
     "output_type": "execute_result"
    }
   ],
   "source": [
    "# weekdays have more accidents than weekends\n",
    "df.UWOCHENTAG.value_counts()"
   ]
  },
  {
   "cell_type": "markdown",
   "metadata": {},
   "source": [
    "Category of how serious is the accident. \n",
    "\n",
    "1 = Accident with death\n",
    "2 = Accident with serious injuries\n",
    "3 = Accident with light injuries\n",
    "\n",
    "Most accidents are light, about 7 times less are with serious injuries and from these 60 times rarer are accidents with deaths. 34 accidens per year in Berlin in 2019."
   ]
  },
  {
   "cell_type": "code",
   "execution_count": 11,
   "metadata": {},
   "outputs": [
    {
     "data": {
      "text/plain": [
       "3    11374\n",
       "2     1982\n",
       "1       34\n",
       "Name: UKATEGORIE, dtype: int64"
      ]
     },
     "execution_count": 11,
     "metadata": {},
     "output_type": "execute_result"
    }
   ],
   "source": [
    "df.UKATEGORIE.value_counts()"
   ]
  },
  {
   "cell_type": "markdown",
   "metadata": {},
   "source": [
    "UART has 10 categories of how are the actors moving in the accident.\n",
    "\n",
    "UTYP1 has 7 categories also of how are the actors moving in the accident, but from another perspective.\n",
    "\n",
    "ULICHTVERH has 3 categories of how dark is it outside: 0 full light; 1 dim light; 2 darkness\n",
    "\n",
    "IstRad if there is a bike involved: 0 no, 1 yes\n",
    "\n",
    "IstPKW if there is a personal car involved: 0 no, 1 yes\n",
    "\n",
    "IstFuss if there is a pedestrian involved: 0 no, 1 yes\n",
    "\n",
    "IstKrad if there is a motorbike involved: 0 no, 1 yes\n",
    "\n",
    "IstGkf if there is a truck involved: 0 no, 1 yes\n",
    "\n",
    "IstSonstig if there is also an actor not mentioned above: 0 no, 1 yes\n",
    "\n",
    "USTRZUSTAND how humid is the road: 0 not at all (dry), 1 wet as after rain, 2 wet with winter ice or freezing rain"
   ]
  },
  {
   "cell_type": "markdown",
   "metadata": {},
   "source": [
    "## Coordinates\n",
    "\n",
    "LINREFX, LINREFY. The coordinate of the accident is given in x, y coordinate in meters for Berlin ETRS89, Zone 32N. \n",
    "\n",
    "XGCSWGS84, YGCSWGS84. The coordinate of the accident in longitude, latitude. \n",
    "\n",
    "These are in strings with a comma. Let's convert them in numbers by first replacing the comma in a dot and then the string in a float."
   ]
  },
  {
   "cell_type": "code",
   "execution_count": 12,
   "metadata": {},
   "outputs": [
    {
     "data": {
      "text/html": [
       "<div>\n",
       "<style scoped>\n",
       "    .dataframe tbody tr th:only-of-type {\n",
       "        vertical-align: middle;\n",
       "    }\n",
       "\n",
       "    .dataframe tbody tr th {\n",
       "        vertical-align: top;\n",
       "    }\n",
       "\n",
       "    .dataframe thead th {\n",
       "        text-align: right;\n",
       "    }\n",
       "</style>\n",
       "<table border=\"1\" class=\"dataframe\">\n",
       "  <thead>\n",
       "    <tr style=\"text-align: right;\">\n",
       "      <th></th>\n",
       "      <th>OBJECTID</th>\n",
       "      <th>LAND</th>\n",
       "      <th>BEZ</th>\n",
       "      <th>LOR</th>\n",
       "      <th>STRASSE</th>\n",
       "      <th>UJAHR</th>\n",
       "      <th>UMONAT</th>\n",
       "      <th>USTUNDE</th>\n",
       "      <th>UWOCHENTAG</th>\n",
       "      <th>UKATEGORIE</th>\n",
       "      <th>...</th>\n",
       "      <th>IstPKW</th>\n",
       "      <th>IstFuss</th>\n",
       "      <th>IstKrad</th>\n",
       "      <th>IstGkfz</th>\n",
       "      <th>IstSonstige</th>\n",
       "      <th>USTRZUSTAND</th>\n",
       "      <th>LINREFX</th>\n",
       "      <th>LINREFY</th>\n",
       "      <th>XGCSWGS84</th>\n",
       "      <th>YGCSWGS84</th>\n",
       "    </tr>\n",
       "  </thead>\n",
       "  <tbody>\n",
       "    <tr>\n",
       "      <th>0</th>\n",
       "      <td>49090</td>\n",
       "      <td>11</td>\n",
       "      <td>12</td>\n",
       "      <td>12301203</td>\n",
       "      <td>Wittenau Süd</td>\n",
       "      <td>2019</td>\n",
       "      <td>1</td>\n",
       "      <td>13</td>\n",
       "      <td>6</td>\n",
       "      <td>3</td>\n",
       "      <td>...</td>\n",
       "      <td>1</td>\n",
       "      <td>0</td>\n",
       "      <td>0</td>\n",
       "      <td>0</td>\n",
       "      <td>0</td>\n",
       "      <td>1</td>\n",
       "      <td>794062.2837</td>\n",
       "      <td>5835083.823</td>\n",
       "      <td>13.34146</td>\n",
       "      <td>52.58609</td>\n",
       "    </tr>\n",
       "    <tr>\n",
       "      <th>1</th>\n",
       "      <td>49091</td>\n",
       "      <td>11</td>\n",
       "      <td>3</td>\n",
       "      <td>3040818</td>\n",
       "      <td>Pankow Süd</td>\n",
       "      <td>2019</td>\n",
       "      <td>1</td>\n",
       "      <td>9</td>\n",
       "      <td>5</td>\n",
       "      <td>3</td>\n",
       "      <td>...</td>\n",
       "      <td>1</td>\n",
       "      <td>0</td>\n",
       "      <td>0</td>\n",
       "      <td>0</td>\n",
       "      <td>0</td>\n",
       "      <td>0</td>\n",
       "      <td>799130.4007</td>\n",
       "      <td>5832327.415</td>\n",
       "      <td>13.41356</td>\n",
       "      <td>52.55862</td>\n",
       "    </tr>\n",
       "    <tr>\n",
       "      <th>2</th>\n",
       "      <td>49093</td>\n",
       "      <td>11</td>\n",
       "      <td>12</td>\n",
       "      <td>12103115</td>\n",
       "      <td>Breitkopfbecken</td>\n",
       "      <td>2019</td>\n",
       "      <td>3</td>\n",
       "      <td>21</td>\n",
       "      <td>6</td>\n",
       "      <td>3</td>\n",
       "      <td>...</td>\n",
       "      <td>0</td>\n",
       "      <td>0</td>\n",
       "      <td>0</td>\n",
       "      <td>0</td>\n",
       "      <td>0</td>\n",
       "      <td>0</td>\n",
       "      <td>795437.6130</td>\n",
       "      <td>5833549.454</td>\n",
       "      <td>13.36034</td>\n",
       "      <td>52.57159</td>\n",
       "    </tr>\n",
       "    <tr>\n",
       "      <th>3</th>\n",
       "      <td>49096</td>\n",
       "      <td>11</td>\n",
       "      <td>6</td>\n",
       "      <td>6040703</td>\n",
       "      <td>Nikolassee</td>\n",
       "      <td>2019</td>\n",
       "      <td>1</td>\n",
       "      <td>7</td>\n",
       "      <td>6</td>\n",
       "      <td>2</td>\n",
       "      <td>...</td>\n",
       "      <td>1</td>\n",
       "      <td>1</td>\n",
       "      <td>0</td>\n",
       "      <td>0</td>\n",
       "      <td>0</td>\n",
       "      <td>1</td>\n",
       "      <td>786714.3754</td>\n",
       "      <td>5817042.137</td>\n",
       "      <td>13.21777</td>\n",
       "      <td>52.42825</td>\n",
       "    </tr>\n",
       "    <tr>\n",
       "      <th>4</th>\n",
       "      <td>49097</td>\n",
       "      <td>11</td>\n",
       "      <td>7</td>\n",
       "      <td>7030303</td>\n",
       "      <td>Grazer Platz</td>\n",
       "      <td>2019</td>\n",
       "      <td>2</td>\n",
       "      <td>15</td>\n",
       "      <td>3</td>\n",
       "      <td>3</td>\n",
       "      <td>...</td>\n",
       "      <td>1</td>\n",
       "      <td>0</td>\n",
       "      <td>0</td>\n",
       "      <td>0</td>\n",
       "      <td>0</td>\n",
       "      <td>0</td>\n",
       "      <td>796074.3342</td>\n",
       "      <td>5822724.905</td>\n",
       "      <td>13.36007</td>\n",
       "      <td>52.47421</td>\n",
       "    </tr>\n",
       "  </tbody>\n",
       "</table>\n",
       "<p>5 rows × 24 columns</p>\n",
       "</div>"
      ],
      "text/plain": [
       "   OBJECTID  LAND  BEZ       LOR          STRASSE  UJAHR  UMONAT  USTUNDE  \\\n",
       "0     49090    11   12  12301203     Wittenau Süd   2019       1       13   \n",
       "1     49091    11    3   3040818       Pankow Süd   2019       1        9   \n",
       "2     49093    11   12  12103115  Breitkopfbecken   2019       3       21   \n",
       "3     49096    11    6   6040703       Nikolassee   2019       1        7   \n",
       "4     49097    11    7   7030303     Grazer Platz   2019       2       15   \n",
       "\n",
       "   UWOCHENTAG  UKATEGORIE  ...  IstPKW  IstFuss  IstKrad  IstGkfz  \\\n",
       "0           6           3  ...       1        0        0        0   \n",
       "1           5           3  ...       1        0        0        0   \n",
       "2           6           3  ...       0        0        0        0   \n",
       "3           6           2  ...       1        1        0        0   \n",
       "4           3           3  ...       1        0        0        0   \n",
       "\n",
       "   IstSonstige  USTRZUSTAND      LINREFX      LINREFY XGCSWGS84 YGCSWGS84  \n",
       "0            0            1  794062.2837  5835083.823  13.34146  52.58609  \n",
       "1            0            0  799130.4007  5832327.415  13.41356  52.55862  \n",
       "2            0            0  795437.6130  5833549.454  13.36034  52.57159  \n",
       "3            0            1  786714.3754  5817042.137  13.21777  52.42825  \n",
       "4            0            0  796074.3342  5822724.905  13.36007  52.47421  \n",
       "\n",
       "[5 rows x 24 columns]"
      ]
     },
     "execution_count": 12,
     "metadata": {},
     "output_type": "execute_result"
    }
   ],
   "source": [
    "df2 = df.copy()\n",
    "for column in [\"LINREFX\", \"LINREFY\", \"XGCSWGS84\", \"YGCSWGS84\"]:\n",
    "    df2[column] = df2[column].map(lambda x : float(x.replace(\",\", \".\")))\n",
    "df2.head()"
   ]
  },
  {
   "cell_type": "markdown",
   "metadata": {},
   "source": [
    "## Check if there are any missing values\n",
    "\n",
    "Answer: no missing values."
   ]
  },
  {
   "cell_type": "code",
   "execution_count": 13,
   "metadata": {},
   "outputs": [
    {
     "data": {
      "text/plain": [
       "OBJECTID         int64\n",
       "LAND             int64\n",
       "BEZ              int64\n",
       "LOR              int64\n",
       "STRASSE         object\n",
       "UJAHR            int64\n",
       "UMONAT           int64\n",
       "USTUNDE          int64\n",
       "UWOCHENTAG       int64\n",
       "UKATEGORIE       int64\n",
       "UART             int64\n",
       "UTYP1            int64\n",
       "ULICHTVERH       int64\n",
       "IstRad           int64\n",
       "IstPKW           int64\n",
       "IstFuss          int64\n",
       "IstKrad          int64\n",
       "IstGkfz          int64\n",
       "IstSonstige     object\n",
       "USTRZUSTAND     object\n",
       "LINREFX        float64\n",
       "LINREFY        float64\n",
       "XGCSWGS84      float64\n",
       "YGCSWGS84      float64\n",
       "dtype: object"
      ]
     },
     "execution_count": 13,
     "metadata": {},
     "output_type": "execute_result"
    }
   ],
   "source": [
    "df2.dtypes"
   ]
  },
  {
   "cell_type": "code",
   "execution_count": 14,
   "metadata": {},
   "outputs": [
    {
     "name": "stdout",
     "output_type": "stream",
     "text": [
      "column=OBJECTID has 0 entries with NaN values\n",
      "column=LAND has 0 entries with NaN values\n",
      "column=BEZ has 0 entries with NaN values\n",
      "column=LOR has 0 entries with NaN values\n",
      "column=STRASSE has 0 entries with NaN values\n",
      "column=UJAHR has 0 entries with NaN values\n",
      "column=UMONAT has 0 entries with NaN values\n",
      "column=USTUNDE has 0 entries with NaN values\n",
      "column=UWOCHENTAG has 0 entries with NaN values\n",
      "column=UKATEGORIE has 0 entries with NaN values\n",
      "column=UART has 0 entries with NaN values\n",
      "column=UTYP1 has 0 entries with NaN values\n",
      "column=ULICHTVERH has 0 entries with NaN values\n",
      "column=IstRad has 0 entries with NaN values\n",
      "column=IstPKW has 0 entries with NaN values\n",
      "column=IstFuss has 0 entries with NaN values\n",
      "column=IstKrad has 0 entries with NaN values\n",
      "column=IstGkfz has 0 entries with NaN values\n",
      "column=IstSonstige has 0 entries with NaN values\n",
      "column=USTRZUSTAND has 0 entries with NaN values\n",
      "column=LINREFX has 0 entries with NaN values\n",
      "column=LINREFY has 0 entries with NaN values\n",
      "column=XGCSWGS84 has 0 entries with NaN values\n",
      "column=YGCSWGS84 has 0 entries with NaN values\n"
     ]
    }
   ],
   "source": [
    "# Check if there are columns with missing values We see that none are missing.\n",
    "for column in df2.columns:\n",
    "    print(f\"column={column} has {df2[column].isnull().sum()} entries with NaN values\")"
   ]
  },
  {
   "cell_type": "markdown",
   "metadata": {},
   "source": [
    "## Check for uncleaned data\n",
    "\n",
    "We notice that these two columns have the significance of integer numbers, but they appear as objects, meaning strings. We need to convert them to numbers. But it does not work directly as some strings look like `812083,7893`. That seems like some corrupted data. So let's investigate. "
   ]
  },
  {
   "cell_type": "markdown",
   "metadata": {},
   "source": [
    "### IstSonstige"
   ]
  },
  {
   "cell_type": "code",
   "execution_count": 15,
   "metadata": {},
   "outputs": [
    {
     "data": {
      "text/plain": [
       "0              11508\n",
       "1               1881\n",
       "812083,7893        1\n",
       "Name: IstSonstige, dtype: int64"
      ]
     },
     "execution_count": 15,
     "metadata": {},
     "output_type": "execute_result"
    }
   ],
   "source": [
    "df2.IstSonstige.value_counts()"
   ]
  },
  {
   "cell_type": "code",
   "execution_count": 16,
   "metadata": {},
   "outputs": [
    {
     "name": "stdout",
     "output_type": "stream",
     "text": [
      "OBJECTID                        201196\n",
      "LAND                                11\n",
      "BEZ                                 10\n",
      "LOR                           10020415\n",
      "STRASSE        Hellersdorfer Promenade\n",
      "UJAHR                             2019\n",
      "UMONAT                              11\n",
      "USTUNDE                              8\n",
      "UWOCHENTAG                           4\n",
      "UKATEGORIE                           3\n",
      "UART                                 5\n",
      "UTYP1                                2\n",
      "ULICHTVERH                           0\n",
      "IstRad                               0\n",
      "IstPKW                               1\n",
      "IstFuss                              0\n",
      "IstKrad                              0\n",
      "IstGkfz                              0\n",
      "IstSonstige                812083,7893\n",
      "USTRZUSTAND    Hellersdorfer Promenade\n",
      "LINREFX                    5.83182e+06\n",
      "LINREFY                        13.6035\n",
      "XGCSWGS84                      52.5468\n",
      "YGCSWGS84                            1\n",
      "Name: 11893, dtype: object\n"
     ]
    }
   ],
   "source": [
    "# check all cases with a comma in the string\n",
    "def print_value_1(row):\n",
    "    if \",\" in row[\"IstSonstige\"]:\n",
    "        print(row)\n",
    "    return None\n",
    "s1 = df2.apply(print_value_1, axis = 1)  "
   ]
  },
  {
   "cell_type": "code",
   "execution_count": 17,
   "metadata": {},
   "outputs": [
    {
     "name": "stdout",
     "output_type": "stream",
     "text": [
      "812083,7893\n"
     ]
    },
    {
     "data": {
      "text/plain": [
       "0    11509\n",
       "1     1881\n",
       "Name: IstSonstige, dtype: int64"
      ]
     },
     "execution_count": 17,
     "metadata": {},
     "output_type": "execute_result"
    }
   ],
   "source": [
    "# in this one case, set no strange object was involved (so value zero) \n",
    "# and for the rest normal ones, convert string to integer\n",
    "def transform_value_1(val):\n",
    "    if \",\" in val:\n",
    "        print(val)\n",
    "        return 0\n",
    "    else:\n",
    "        return int(val)\n",
    "for column in [\"IstSonstige\"]:\n",
    "    df2[column] = df2[column].map(lambda x : transform_value_1(x))\n",
    "df2.IstSonstige.value_counts()"
   ]
  },
  {
   "cell_type": "markdown",
   "metadata": {},
   "source": [
    "### USTRZUSTAND"
   ]
  },
  {
   "cell_type": "code",
   "execution_count": 18,
   "metadata": {},
   "outputs": [
    {
     "data": {
      "text/plain": [
       "0                          10154\n",
       "1                           3190\n",
       "2                             45\n",
       "Hellersdorfer Promenade        1\n",
       "Name: USTRZUSTAND, dtype: int64"
      ]
     },
     "execution_count": 18,
     "metadata": {},
     "output_type": "execute_result"
    }
   ],
   "source": [
    "df2.USTRZUSTAND.value_counts()"
   ]
  },
  {
   "cell_type": "code",
   "execution_count": 19,
   "metadata": {},
   "outputs": [
    {
     "name": "stdout",
     "output_type": "stream",
     "text": [
      "OBJECTID                        201196\n",
      "LAND                                11\n",
      "BEZ                                 10\n",
      "LOR                           10020415\n",
      "STRASSE        Hellersdorfer Promenade\n",
      "UJAHR                             2019\n",
      "UMONAT                              11\n",
      "USTUNDE                              8\n",
      "UWOCHENTAG                           4\n",
      "UKATEGORIE                           3\n",
      "UART                                 5\n",
      "UTYP1                                2\n",
      "ULICHTVERH                           0\n",
      "IstRad                               0\n",
      "IstPKW                               1\n",
      "IstFuss                              0\n",
      "IstKrad                              0\n",
      "IstGkfz                              0\n",
      "IstSonstige                          0\n",
      "USTRZUSTAND    Hellersdorfer Promenade\n",
      "LINREFX                    5.83182e+06\n",
      "LINREFY                        13.6035\n",
      "XGCSWGS84                      52.5468\n",
      "YGCSWGS84                            1\n",
      "Name: 11893, dtype: object\n"
     ]
    }
   ],
   "source": [
    "# check all cases with a comma in the string\n",
    "def print_value_2(row):\n",
    "    if \" \" in row[\"USTRZUSTAND\"]:\n",
    "        print(row)\n",
    "    return None\n",
    "s1 = df2.apply(print_value_2, axis = 1) "
   ]
  },
  {
   "cell_type": "code",
   "execution_count": 20,
   "metadata": {},
   "outputs": [
    {
     "name": "stdout",
     "output_type": "stream",
     "text": [
      "Hellersdorfer Promenade\n"
     ]
    },
    {
     "data": {
      "text/plain": [
       "0    11509\n",
       "1     1881\n",
       "Name: IstSonstige, dtype: int64"
      ]
     },
     "execution_count": 20,
     "metadata": {},
     "output_type": "execute_result"
    }
   ],
   "source": [
    "# in this one case, set it is dry, so zero\n",
    "# and for the rest normal ones, convert string to integer\n",
    "def transform_value_2(val):\n",
    "    if \" \" in val:\n",
    "        print(val)\n",
    "        return 0\n",
    "    else:\n",
    "        return int(val)\n",
    "for column in [\"USTRZUSTAND\"]:\n",
    "    df2[column] = df2[column].map(lambda x : transform_value_2(x))\n",
    "df2.IstSonstige.value_counts()"
   ]
  },
  {
   "cell_type": "markdown",
   "metadata": {},
   "source": [
    "# Create a GeoDataFrame from the data frame\n",
    "\n",
    "4326 is just the EPSG identifier of WGS84 (the Earth elipsoid for longitude and latitude)"
   ]
  },
  {
   "cell_type": "code",
   "execution_count": 21,
   "metadata": {},
   "outputs": [
    {
     "data": {
      "text/html": [
       "<div>\n",
       "<style scoped>\n",
       "    .dataframe tbody tr th:only-of-type {\n",
       "        vertical-align: middle;\n",
       "    }\n",
       "\n",
       "    .dataframe tbody tr th {\n",
       "        vertical-align: top;\n",
       "    }\n",
       "\n",
       "    .dataframe thead th {\n",
       "        text-align: right;\n",
       "    }\n",
       "</style>\n",
       "<table border=\"1\" class=\"dataframe\">\n",
       "  <thead>\n",
       "    <tr style=\"text-align: right;\">\n",
       "      <th></th>\n",
       "      <th>OBJECTID</th>\n",
       "      <th>LAND</th>\n",
       "      <th>BEZ</th>\n",
       "      <th>LOR</th>\n",
       "      <th>STRASSE</th>\n",
       "      <th>UJAHR</th>\n",
       "      <th>UMONAT</th>\n",
       "      <th>USTUNDE</th>\n",
       "      <th>UWOCHENTAG</th>\n",
       "      <th>UKATEGORIE</th>\n",
       "      <th>...</th>\n",
       "      <th>IstFuss</th>\n",
       "      <th>IstKrad</th>\n",
       "      <th>IstGkfz</th>\n",
       "      <th>IstSonstige</th>\n",
       "      <th>USTRZUSTAND</th>\n",
       "      <th>LINREFX</th>\n",
       "      <th>LINREFY</th>\n",
       "      <th>XGCSWGS84</th>\n",
       "      <th>YGCSWGS84</th>\n",
       "      <th>geometry</th>\n",
       "    </tr>\n",
       "  </thead>\n",
       "  <tbody>\n",
       "    <tr>\n",
       "      <th>0</th>\n",
       "      <td>49090</td>\n",
       "      <td>11</td>\n",
       "      <td>12</td>\n",
       "      <td>12301203</td>\n",
       "      <td>Wittenau Süd</td>\n",
       "      <td>2019</td>\n",
       "      <td>1</td>\n",
       "      <td>13</td>\n",
       "      <td>6</td>\n",
       "      <td>3</td>\n",
       "      <td>...</td>\n",
       "      <td>0</td>\n",
       "      <td>0</td>\n",
       "      <td>0</td>\n",
       "      <td>0</td>\n",
       "      <td>1</td>\n",
       "      <td>794062.2837</td>\n",
       "      <td>5835083.823</td>\n",
       "      <td>13.34146</td>\n",
       "      <td>52.58609</td>\n",
       "      <td>POINT (13.34146 52.58609)</td>\n",
       "    </tr>\n",
       "    <tr>\n",
       "      <th>1</th>\n",
       "      <td>49091</td>\n",
       "      <td>11</td>\n",
       "      <td>3</td>\n",
       "      <td>3040818</td>\n",
       "      <td>Pankow Süd</td>\n",
       "      <td>2019</td>\n",
       "      <td>1</td>\n",
       "      <td>9</td>\n",
       "      <td>5</td>\n",
       "      <td>3</td>\n",
       "      <td>...</td>\n",
       "      <td>0</td>\n",
       "      <td>0</td>\n",
       "      <td>0</td>\n",
       "      <td>0</td>\n",
       "      <td>0</td>\n",
       "      <td>799130.4007</td>\n",
       "      <td>5832327.415</td>\n",
       "      <td>13.41356</td>\n",
       "      <td>52.55862</td>\n",
       "      <td>POINT (13.41356 52.55862)</td>\n",
       "    </tr>\n",
       "    <tr>\n",
       "      <th>2</th>\n",
       "      <td>49093</td>\n",
       "      <td>11</td>\n",
       "      <td>12</td>\n",
       "      <td>12103115</td>\n",
       "      <td>Breitkopfbecken</td>\n",
       "      <td>2019</td>\n",
       "      <td>3</td>\n",
       "      <td>21</td>\n",
       "      <td>6</td>\n",
       "      <td>3</td>\n",
       "      <td>...</td>\n",
       "      <td>0</td>\n",
       "      <td>0</td>\n",
       "      <td>0</td>\n",
       "      <td>0</td>\n",
       "      <td>0</td>\n",
       "      <td>795437.6130</td>\n",
       "      <td>5833549.454</td>\n",
       "      <td>13.36034</td>\n",
       "      <td>52.57159</td>\n",
       "      <td>POINT (13.36034 52.57159)</td>\n",
       "    </tr>\n",
       "    <tr>\n",
       "      <th>3</th>\n",
       "      <td>49096</td>\n",
       "      <td>11</td>\n",
       "      <td>6</td>\n",
       "      <td>6040703</td>\n",
       "      <td>Nikolassee</td>\n",
       "      <td>2019</td>\n",
       "      <td>1</td>\n",
       "      <td>7</td>\n",
       "      <td>6</td>\n",
       "      <td>2</td>\n",
       "      <td>...</td>\n",
       "      <td>1</td>\n",
       "      <td>0</td>\n",
       "      <td>0</td>\n",
       "      <td>0</td>\n",
       "      <td>1</td>\n",
       "      <td>786714.3754</td>\n",
       "      <td>5817042.137</td>\n",
       "      <td>13.21777</td>\n",
       "      <td>52.42825</td>\n",
       "      <td>POINT (13.21777 52.42825)</td>\n",
       "    </tr>\n",
       "    <tr>\n",
       "      <th>4</th>\n",
       "      <td>49097</td>\n",
       "      <td>11</td>\n",
       "      <td>7</td>\n",
       "      <td>7030303</td>\n",
       "      <td>Grazer Platz</td>\n",
       "      <td>2019</td>\n",
       "      <td>2</td>\n",
       "      <td>15</td>\n",
       "      <td>3</td>\n",
       "      <td>3</td>\n",
       "      <td>...</td>\n",
       "      <td>0</td>\n",
       "      <td>0</td>\n",
       "      <td>0</td>\n",
       "      <td>0</td>\n",
       "      <td>0</td>\n",
       "      <td>796074.3342</td>\n",
       "      <td>5822724.905</td>\n",
       "      <td>13.36007</td>\n",
       "      <td>52.47421</td>\n",
       "      <td>POINT (13.36007 52.47421)</td>\n",
       "    </tr>\n",
       "  </tbody>\n",
       "</table>\n",
       "<p>5 rows × 25 columns</p>\n",
       "</div>"
      ],
      "text/plain": [
       "   OBJECTID  LAND  BEZ       LOR          STRASSE  UJAHR  UMONAT  USTUNDE  \\\n",
       "0     49090    11   12  12301203     Wittenau Süd   2019       1       13   \n",
       "1     49091    11    3   3040818       Pankow Süd   2019       1        9   \n",
       "2     49093    11   12  12103115  Breitkopfbecken   2019       3       21   \n",
       "3     49096    11    6   6040703       Nikolassee   2019       1        7   \n",
       "4     49097    11    7   7030303     Grazer Platz   2019       2       15   \n",
       "\n",
       "   UWOCHENTAG  UKATEGORIE  ...  IstFuss  IstKrad  IstGkfz  IstSonstige  \\\n",
       "0           6           3  ...        0        0        0            0   \n",
       "1           5           3  ...        0        0        0            0   \n",
       "2           6           3  ...        0        0        0            0   \n",
       "3           6           2  ...        1        0        0            0   \n",
       "4           3           3  ...        0        0        0            0   \n",
       "\n",
       "   USTRZUSTAND      LINREFX      LINREFY  XGCSWGS84  YGCSWGS84  \\\n",
       "0            1  794062.2837  5835083.823   13.34146   52.58609   \n",
       "1            0  799130.4007  5832327.415   13.41356   52.55862   \n",
       "2            0  795437.6130  5833549.454   13.36034   52.57159   \n",
       "3            1  786714.3754  5817042.137   13.21777   52.42825   \n",
       "4            0  796074.3342  5822724.905   13.36007   52.47421   \n",
       "\n",
       "                    geometry  \n",
       "0  POINT (13.34146 52.58609)  \n",
       "1  POINT (13.41356 52.55862)  \n",
       "2  POINT (13.36034 52.57159)  \n",
       "3  POINT (13.21777 52.42825)  \n",
       "4  POINT (13.36007 52.47421)  \n",
       "\n",
       "[5 rows x 25 columns]"
      ]
     },
     "execution_count": 21,
     "metadata": {},
     "output_type": "execute_result"
    }
   ],
   "source": [
    "gdf = gpd.GeoDataFrame(df2, geometry = gpd.points_from_xy(df2.XGCSWGS84, df2.YGCSWGS84, crs = \"EPSG:4326\"))\n",
    "gdf.head()"
   ]
  },
  {
   "cell_type": "code",
   "execution_count": 22,
   "metadata": {},
   "outputs": [
    {
     "data": {
      "text/plain": [
       "0        POINT (13.34146 52.58609)\n",
       "1        POINT (13.41356 52.55862)\n",
       "2        POINT (13.36034 52.57159)\n",
       "3        POINT (13.21777 52.42825)\n",
       "4        POINT (13.36007 52.47421)\n",
       "                   ...            \n",
       "13385    POINT (13.41538 52.52271)\n",
       "13386    POINT (13.38421 52.51232)\n",
       "13387    POINT (13.41808 52.51544)\n",
       "13388    POINT (13.49862 52.51569)\n",
       "13389    POINT (13.38082 52.51640)\n",
       "Name: geometry, Length: 13390, dtype: geometry"
      ]
     },
     "execution_count": 22,
     "metadata": {},
     "output_type": "execute_result"
    }
   ],
   "source": [
    "gdf.geometry"
   ]
  },
  {
   "cell_type": "code",
   "execution_count": 23,
   "metadata": {},
   "outputs": [
    {
     "data": {
      "text/plain": [
       "<Geographic 2D CRS: EPSG:4326>\n",
       "Name: WGS 84\n",
       "Axis Info [ellipsoidal]:\n",
       "- Lat[north]: Geodetic latitude (degree)\n",
       "- Lon[east]: Geodetic longitude (degree)\n",
       "Area of Use:\n",
       "- name: World.\n",
       "- bounds: (-180.0, -90.0, 180.0, 90.0)\n",
       "Datum: World Geodetic System 1984\n",
       "- Ellipsoid: WGS 84\n",
       "- Prime Meridian: Greenwich"
      ]
     },
     "execution_count": 23,
     "metadata": {},
     "output_type": "execute_result"
    }
   ],
   "source": [
    "gdf.crs"
   ]
  },
  {
   "cell_type": "markdown",
   "metadata": {},
   "source": [
    "# Plot\n",
    "\n",
    "Let's plot it directly from matplotlib or pandas"
   ]
  },
  {
   "cell_type": "code",
   "execution_count": 24,
   "metadata": {},
   "outputs": [
    {
     "data": {
      "text/plain": [
       "Text(0.5, 1.0, 'Berlin car accidents in 2019')"
      ]
     },
     "execution_count": 24,
     "metadata": {},
     "output_type": "execute_result"
    },
    {
     "data": {
      "image/png": "[encoded data removed]",
      "text/plain": [
       "<Figure size 432x288 with 1 Axes>"
      ]
     },
     "metadata": {
      "needs_background": "light"
     },
     "output_type": "display_data"
    }
   ],
   "source": [
    "# from matplotlib\n",
    "gdf.plot()\n",
    "plt.xlabel(\"Longitude\")\n",
    "plt.ylabel(\"Latitude\")\n",
    "plt.title(\"Berlin car accidents in 2019\")"
   ]
  },
  {
   "cell_type": "markdown",
   "metadata": {},
   "source": [
    "Hmm, it works, but thanks to the plotting we discover another problem. There seems to be all the points in the top left corner, where Berlin is supposed to be, but there is at least one that is far away. Since we already had two problems on the same row, maybe this refers to the same one. \n",
    "\n",
    "So let's identify these points with latitude smaller than 10 and let's look at them as a smaller geo data frame."
   ]
  },
  {
   "cell_type": "code",
   "execution_count": 25,
   "metadata": {},
   "outputs": [
    {
     "data": {
      "text/html": [
       "<div>\n",
       "<style scoped>\n",
       "    .dataframe tbody tr th:only-of-type {\n",
       "        vertical-align: middle;\n",
       "    }\n",
       "\n",
       "    .dataframe tbody tr th {\n",
       "        vertical-align: top;\n",
       "    }\n",
       "\n",
       "    .dataframe thead th {\n",
       "        text-align: right;\n",
       "    }\n",
       "</style>\n",
       "<table border=\"1\" class=\"dataframe\">\n",
       "  <thead>\n",
       "    <tr style=\"text-align: right;\">\n",
       "      <th></th>\n",
       "      <th>OBJECTID</th>\n",
       "      <th>LAND</th>\n",
       "      <th>BEZ</th>\n",
       "      <th>LOR</th>\n",
       "      <th>STRASSE</th>\n",
       "      <th>UJAHR</th>\n",
       "      <th>UMONAT</th>\n",
       "      <th>USTUNDE</th>\n",
       "      <th>UWOCHENTAG</th>\n",
       "      <th>UKATEGORIE</th>\n",
       "      <th>...</th>\n",
       "      <th>IstFuss</th>\n",
       "      <th>IstKrad</th>\n",
       "      <th>IstGkfz</th>\n",
       "      <th>IstSonstige</th>\n",
       "      <th>USTRZUSTAND</th>\n",
       "      <th>LINREFX</th>\n",
       "      <th>LINREFY</th>\n",
       "      <th>XGCSWGS84</th>\n",
       "      <th>YGCSWGS84</th>\n",
       "      <th>geometry</th>\n",
       "    </tr>\n",
       "  </thead>\n",
       "  <tbody>\n",
       "    <tr>\n",
       "      <th>11893</th>\n",
       "      <td>201196</td>\n",
       "      <td>11</td>\n",
       "      <td>10</td>\n",
       "      <td>10020415</td>\n",
       "      <td>Hellersdorfer Promenade</td>\n",
       "      <td>2019</td>\n",
       "      <td>11</td>\n",
       "      <td>8</td>\n",
       "      <td>4</td>\n",
       "      <td>3</td>\n",
       "      <td>...</td>\n",
       "      <td>0</td>\n",
       "      <td>0</td>\n",
       "      <td>0</td>\n",
       "      <td>0</td>\n",
       "      <td>0</td>\n",
       "      <td>5831815.307</td>\n",
       "      <td>13.603547</td>\n",
       "      <td>52.546758</td>\n",
       "      <td>1.0</td>\n",
       "      <td>POINT (52.54676 1.00000)</td>\n",
       "    </tr>\n",
       "  </tbody>\n",
       "</table>\n",
       "<p>1 rows × 25 columns</p>\n",
       "</div>"
      ],
      "text/plain": [
       "       OBJECTID  LAND  BEZ       LOR                  STRASSE  UJAHR  UMONAT  \\\n",
       "11893    201196    11   10  10020415  Hellersdorfer Promenade   2019      11   \n",
       "\n",
       "       USTUNDE  UWOCHENTAG  UKATEGORIE  ...  IstFuss  IstKrad  IstGkfz  \\\n",
       "11893        8           4           3  ...        0        0        0   \n",
       "\n",
       "       IstSonstige  USTRZUSTAND      LINREFX    LINREFY  XGCSWGS84  YGCSWGS84  \\\n",
       "11893            0            0  5831815.307  13.603547  52.546758        1.0   \n",
       "\n",
       "                       geometry  \n",
       "11893  POINT (52.54676 1.00000)  \n",
       "\n",
       "[1 rows x 25 columns]"
      ]
     },
     "execution_count": 25,
     "metadata": {},
     "output_type": "execute_result"
    }
   ],
   "source": [
    "gdf2 = gdf[gdf.YGCSWGS84 < 10]\n",
    "gdf2"
   ]
  },
  {
   "cell_type": "markdown",
   "metadata": {},
   "source": [
    "Indeed, it is the same one as before. Something is wrong in the parsing, as the longitude is instead of LINREFY. We could try to fix it, but we have more than 13k accidents, we can be better of removing this one like, by keeping only those with latitude larger than 10."
   ]
  },
  {
   "cell_type": "code",
   "execution_count": 26,
   "metadata": {},
   "outputs": [
    {
     "data": {
      "text/plain": [
       "(13389, 25)"
      ]
     },
     "execution_count": 26,
     "metadata": {},
     "output_type": "execute_result"
    }
   ],
   "source": [
    "gdf = gdf[gdf.YGCSWGS84 > 10]\n",
    "gdf.shape"
   ]
  },
  {
   "cell_type": "markdown",
   "metadata": {},
   "source": [
    "Plotting looks now better"
   ]
  },
  {
   "cell_type": "code",
   "execution_count": 27,
   "metadata": {},
   "outputs": [
    {
     "data": {
      "text/plain": [
       "Text(0.5, 1.0, 'Berlin car accidents in 2019')"
      ]
     },
     "execution_count": 27,
     "metadata": {},
     "output_type": "execute_result"
    },
    {
     "data": {
      "image/png": "[encoded data removed]",
      "text/plain": [
       "<Figure size 432x288 with 1 Axes>"
      ]
     },
     "metadata": {
      "needs_background": "light"
     },
     "output_type": "display_data"
    }
   ],
   "source": [
    "# from matplotlib\n",
    "gdf.plot()\n",
    "plt.xlabel(\"Longitude\")\n",
    "plt.ylabel(\"Latitude\")\n",
    "plt.title(\"Berlin car accidents in 2019\")"
   ]
  },
  {
   "cell_type": "code",
   "execution_count": 28,
   "metadata": {},
   "outputs": [
    {
     "data": {
      "text/plain": [
       "OBJECTID          int64\n",
       "LAND              int64\n",
       "BEZ               int64\n",
       "LOR               int64\n",
       "STRASSE          object\n",
       "UJAHR             int64\n",
       "UMONAT            int64\n",
       "USTUNDE           int64\n",
       "UWOCHENTAG        int64\n",
       "UKATEGORIE        int64\n",
       "UART              int64\n",
       "UTYP1             int64\n",
       "ULICHTVERH        int64\n",
       "IstRad            int64\n",
       "IstPKW            int64\n",
       "IstFuss           int64\n",
       "IstKrad           int64\n",
       "IstGkfz           int64\n",
       "IstSonstige       int64\n",
       "USTRZUSTAND       int64\n",
       "LINREFX         float64\n",
       "LINREFY         float64\n",
       "XGCSWGS84       float64\n",
       "YGCSWGS84       float64\n",
       "geometry       geometry\n",
       "dtype: object"
      ]
     },
     "execution_count": 28,
     "metadata": {},
     "output_type": "execute_result"
    }
   ],
   "source": [
    "gdf.dtypes"
   ]
  },
  {
   "cell_type": "code",
   "execution_count": 29,
   "metadata": {},
   "outputs": [
    {
     "data": {
      "text/plain": [
       "Text(0.5, 1.0, 'Berlin car accidents in 2019')"
      ]
     },
     "execution_count": 29,
     "metadata": {},
     "output_type": "execute_result"
    },
    {
     "data": {
      "image/png": "[encoded data removed]",
      "text/plain": [
       "<Figure size 720x432 with 1 Axes>"
      ]
     },
     "metadata": {
      "needs_background": "light"
     },
     "output_type": "display_data"
    }
   ],
   "source": [
    "# let's plot only the bike accidents on top\n",
    "fig, ax = plt.subplots(1, 1, figsize = (10, 6))\n",
    "gdf[gdf.IstRad == 0].plot(ax = ax, label = \"No bike\", color = \"blue\")\n",
    "gdf[gdf.IstRad == 1].plot(ax = ax, label = \"With bike\", color = \"red\")\n",
    "plt.legend()\n",
    "plt.xlabel(\"Longitude\")\n",
    "plt.ylabel(\"Latitude\")\n",
    "plt.title(\"Berlin car accidents in 2019\")"
   ]
  },
  {
   "cell_type": "code",
   "execution_count": 30,
   "metadata": {},
   "outputs": [
    {
     "data": {
      "text/plain": [
       "0    8384\n",
       "1    5005\n",
       "Name: IstRad, dtype: int64"
      ]
     },
     "execution_count": 30,
     "metadata": {},
     "output_type": "execute_result"
    }
   ],
   "source": [
    "gdf.IstRad.value_counts()"
   ]
  },
  {
   "cell_type": "markdown",
   "metadata": {},
   "source": [
    "So almost half of the accidents in Berlin involve bikes. How about motor bikes?"
   ]
  },
  {
   "cell_type": "code",
   "execution_count": 31,
   "metadata": {},
   "outputs": [
    {
     "data": {
      "text/plain": [
       "Text(0.5, 1.0, 'Berlin car accidents in 2019')"
      ]
     },
     "execution_count": 31,
     "metadata": {},
     "output_type": "execute_result"
    },
    {
     "data": {
      "image/png": "[encoded data removed]",
      "text/plain": [
       "<Figure size 720x432 with 1 Axes>"
      ]
     },
     "metadata": {
      "needs_background": "light"
     },
     "output_type": "display_data"
    }
   ],
   "source": [
    "# let's plot only the bike accidents on top\n",
    "fig, ax = plt.subplots(1, 1, figsize = (10, 6))\n",
    "gdf[gdf.IstKrad == 0].plot(ax = ax, label = \"No motor-bike\", color = \"blue\")\n",
    "gdf[gdf.IstKrad == 1].plot(ax = ax, label = \"With motor-bike\", color = \"red\")\n",
    "plt.legend()\n",
    "plt.xlabel(\"Longitude\")\n",
    "plt.ylabel(\"Latitude\")\n",
    "plt.title(\"Berlin car accidents in 2019\")"
   ]
  },
  {
   "cell_type": "code",
   "execution_count": 32,
   "metadata": {},
   "outputs": [
    {
     "data": {
      "text/plain": [
       "0    11415\n",
       "1     1974\n",
       "Name: IstKrad, dtype: int64"
      ]
     },
     "execution_count": 32,
     "metadata": {},
     "output_type": "execute_result"
    }
   ],
   "source": [
    "gdf.IstKrad.value_counts()"
   ]
  },
  {
   "cell_type": "markdown",
   "metadata": {},
   "source": [
    "Only about 1 in 6 accidents involves a motorbike, so rarer as with real bikes, but they still seem distributed uniformly across the entire city, not localized only in particular areas."
   ]
  },
  {
   "cell_type": "markdown",
   "metadata": {},
   "source": [
    "It would be useful to plot also the map of the city below the points, which we will explore in other Juypter Notebooks dedicated to mapping, both static and interactive.\n",
    "\n",
    "For this, let's store the current prepared and cleaned geo data frame to a file, to simply read it there directly."
   ]
  },
  {
   "cell_type": "markdown",
   "metadata": {},
   "source": [
    "# Store to output files of various formats\n",
    "\n",
    "* .pickle\n",
    "* .shp"
   ]
  },
  {
   "cell_type": "markdown",
   "metadata": {},
   "source": [
    "## .pickle"
   ]
  },
  {
   "cell_type": "code",
   "execution_count": 33,
   "metadata": {},
   "outputs": [],
   "source": [
    "# store the geo data frame to a .pickle file, to be easily read in and plot quickly\n",
    "# this is only 2.8 MB, but it is still a binary file, that is why we do not store it in the same repo as the code\n",
    "pd.to_pickle(gdf, f\"{OUTPUT_FILE_NAME_STEM}.pickle\")"
   ]
  },
  {
   "cell_type": "code",
   "execution_count": 34,
   "metadata": {},
   "outputs": [
    {
     "data": {
      "text/html": [
       "<div>\n",
       "<style scoped>\n",
       "    .dataframe tbody tr th:only-of-type {\n",
       "        vertical-align: middle;\n",
       "    }\n",
       "\n",
       "    .dataframe tbody tr th {\n",
       "        vertical-align: top;\n",
       "    }\n",
       "\n",
       "    .dataframe thead th {\n",
       "        text-align: right;\n",
       "    }\n",
       "</style>\n",
       "<table border=\"1\" class=\"dataframe\">\n",
       "  <thead>\n",
       "    <tr style=\"text-align: right;\">\n",
       "      <th></th>\n",
       "      <th>OBJECTID</th>\n",
       "      <th>LAND</th>\n",
       "      <th>BEZ</th>\n",
       "      <th>LOR</th>\n",
       "      <th>STRASSE</th>\n",
       "      <th>UJAHR</th>\n",
       "      <th>UMONAT</th>\n",
       "      <th>USTUNDE</th>\n",
       "      <th>UWOCHENTAG</th>\n",
       "      <th>UKATEGORIE</th>\n",
       "      <th>...</th>\n",
       "      <th>IstFuss</th>\n",
       "      <th>IstKrad</th>\n",
       "      <th>IstGkfz</th>\n",
       "      <th>IstSonstige</th>\n",
       "      <th>USTRZUSTAND</th>\n",
       "      <th>LINREFX</th>\n",
       "      <th>LINREFY</th>\n",
       "      <th>XGCSWGS84</th>\n",
       "      <th>YGCSWGS84</th>\n",
       "      <th>geometry</th>\n",
       "    </tr>\n",
       "  </thead>\n",
       "  <tbody>\n",
       "    <tr>\n",
       "      <th>0</th>\n",
       "      <td>49090</td>\n",
       "      <td>11</td>\n",
       "      <td>12</td>\n",
       "      <td>12301203</td>\n",
       "      <td>Wittenau Süd</td>\n",
       "      <td>2019</td>\n",
       "      <td>1</td>\n",
       "      <td>13</td>\n",
       "      <td>6</td>\n",
       "      <td>3</td>\n",
       "      <td>...</td>\n",
       "      <td>0</td>\n",
       "      <td>0</td>\n",
       "      <td>0</td>\n",
       "      <td>0</td>\n",
       "      <td>1</td>\n",
       "      <td>794062.2837</td>\n",
       "      <td>5835083.823</td>\n",
       "      <td>13.34146</td>\n",
       "      <td>52.58609</td>\n",
       "      <td>POINT (13.34146 52.58609)</td>\n",
       "    </tr>\n",
       "    <tr>\n",
       "      <th>1</th>\n",
       "      <td>49091</td>\n",
       "      <td>11</td>\n",
       "      <td>3</td>\n",
       "      <td>3040818</td>\n",
       "      <td>Pankow Süd</td>\n",
       "      <td>2019</td>\n",
       "      <td>1</td>\n",
       "      <td>9</td>\n",
       "      <td>5</td>\n",
       "      <td>3</td>\n",
       "      <td>...</td>\n",
       "      <td>0</td>\n",
       "      <td>0</td>\n",
       "      <td>0</td>\n",
       "      <td>0</td>\n",
       "      <td>0</td>\n",
       "      <td>799130.4007</td>\n",
       "      <td>5832327.415</td>\n",
       "      <td>13.41356</td>\n",
       "      <td>52.55862</td>\n",
       "      <td>POINT (13.41356 52.55862)</td>\n",
       "    </tr>\n",
       "    <tr>\n",
       "      <th>2</th>\n",
       "      <td>49093</td>\n",
       "      <td>11</td>\n",
       "      <td>12</td>\n",
       "      <td>12103115</td>\n",
       "      <td>Breitkopfbecken</td>\n",
       "      <td>2019</td>\n",
       "      <td>3</td>\n",
       "      <td>21</td>\n",
       "      <td>6</td>\n",
       "      <td>3</td>\n",
       "      <td>...</td>\n",
       "      <td>0</td>\n",
       "      <td>0</td>\n",
       "      <td>0</td>\n",
       "      <td>0</td>\n",
       "      <td>0</td>\n",
       "      <td>795437.6130</td>\n",
       "      <td>5833549.454</td>\n",
       "      <td>13.36034</td>\n",
       "      <td>52.57159</td>\n",
       "      <td>POINT (13.36034 52.57159)</td>\n",
       "    </tr>\n",
       "    <tr>\n",
       "      <th>3</th>\n",
       "      <td>49096</td>\n",
       "      <td>11</td>\n",
       "      <td>6</td>\n",
       "      <td>6040703</td>\n",
       "      <td>Nikolassee</td>\n",
       "      <td>2019</td>\n",
       "      <td>1</td>\n",
       "      <td>7</td>\n",
       "      <td>6</td>\n",
       "      <td>2</td>\n",
       "      <td>...</td>\n",
       "      <td>1</td>\n",
       "      <td>0</td>\n",
       "      <td>0</td>\n",
       "      <td>0</td>\n",
       "      <td>1</td>\n",
       "      <td>786714.3754</td>\n",
       "      <td>5817042.137</td>\n",
       "      <td>13.21777</td>\n",
       "      <td>52.42825</td>\n",
       "      <td>POINT (13.21777 52.42825)</td>\n",
       "    </tr>\n",
       "    <tr>\n",
       "      <th>4</th>\n",
       "      <td>49097</td>\n",
       "      <td>11</td>\n",
       "      <td>7</td>\n",
       "      <td>7030303</td>\n",
       "      <td>Grazer Platz</td>\n",
       "      <td>2019</td>\n",
       "      <td>2</td>\n",
       "      <td>15</td>\n",
       "      <td>3</td>\n",
       "      <td>3</td>\n",
       "      <td>...</td>\n",
       "      <td>0</td>\n",
       "      <td>0</td>\n",
       "      <td>0</td>\n",
       "      <td>0</td>\n",
       "      <td>0</td>\n",
       "      <td>796074.3342</td>\n",
       "      <td>5822724.905</td>\n",
       "      <td>13.36007</td>\n",
       "      <td>52.47421</td>\n",
       "      <td>POINT (13.36007 52.47421)</td>\n",
       "    </tr>\n",
       "    <tr>\n",
       "      <th>...</th>\n",
       "      <td>...</td>\n",
       "      <td>...</td>\n",
       "      <td>...</td>\n",
       "      <td>...</td>\n",
       "      <td>...</td>\n",
       "      <td>...</td>\n",
       "      <td>...</td>\n",
       "      <td>...</td>\n",
       "      <td>...</td>\n",
       "      <td>...</td>\n",
       "      <td>...</td>\n",
       "      <td>...</td>\n",
       "      <td>...</td>\n",
       "      <td>...</td>\n",
       "      <td>...</td>\n",
       "      <td>...</td>\n",
       "      <td>...</td>\n",
       "      <td>...</td>\n",
       "      <td>...</td>\n",
       "      <td>...</td>\n",
       "      <td>...</td>\n",
       "    </tr>\n",
       "    <tr>\n",
       "      <th>13385</th>\n",
       "      <td>202775</td>\n",
       "      <td>11</td>\n",
       "      <td>1</td>\n",
       "      <td>1011303</td>\n",
       "      <td>Alexanderplatzviertel</td>\n",
       "      <td>2019</td>\n",
       "      <td>12</td>\n",
       "      <td>15</td>\n",
       "      <td>2</td>\n",
       "      <td>3</td>\n",
       "      <td>...</td>\n",
       "      <td>1</td>\n",
       "      <td>0</td>\n",
       "      <td>0</td>\n",
       "      <td>0</td>\n",
       "      <td>0</td>\n",
       "      <td>799498.0190</td>\n",
       "      <td>5828344.449</td>\n",
       "      <td>13.41538</td>\n",
       "      <td>52.52271</td>\n",
       "      <td>POINT (13.41538 52.52271)</td>\n",
       "    </tr>\n",
       "    <tr>\n",
       "      <th>13386</th>\n",
       "      <td>202776</td>\n",
       "      <td>11</td>\n",
       "      <td>1</td>\n",
       "      <td>1011201</td>\n",
       "      <td>Wilhelmstraße</td>\n",
       "      <td>2019</td>\n",
       "      <td>12</td>\n",
       "      <td>14</td>\n",
       "      <td>2</td>\n",
       "      <td>3</td>\n",
       "      <td>...</td>\n",
       "      <td>0</td>\n",
       "      <td>0</td>\n",
       "      <td>0</td>\n",
       "      <td>0</td>\n",
       "      <td>0</td>\n",
       "      <td>797455.1835</td>\n",
       "      <td>5827060.276</td>\n",
       "      <td>13.38421</td>\n",
       "      <td>52.51232</td>\n",
       "      <td>POINT (13.38421 52.51232)</td>\n",
       "    </tr>\n",
       "    <tr>\n",
       "      <th>13387</th>\n",
       "      <td>202777</td>\n",
       "      <td>11</td>\n",
       "      <td>1</td>\n",
       "      <td>1011304</td>\n",
       "      <td>Karl-Marx-Allee</td>\n",
       "      <td>2019</td>\n",
       "      <td>12</td>\n",
       "      <td>14</td>\n",
       "      <td>2</td>\n",
       "      <td>3</td>\n",
       "      <td>...</td>\n",
       "      <td>0</td>\n",
       "      <td>0</td>\n",
       "      <td>0</td>\n",
       "      <td>1</td>\n",
       "      <td>0</td>\n",
       "      <td>799730.8820</td>\n",
       "      <td>5827547.138</td>\n",
       "      <td>13.41808</td>\n",
       "      <td>52.51544</td>\n",
       "      <td>POINT (13.41808 52.51544)</td>\n",
       "    </tr>\n",
       "    <tr>\n",
       "      <th>13388</th>\n",
       "      <td>202778</td>\n",
       "      <td>11</td>\n",
       "      <td>11</td>\n",
       "      <td>11030721</td>\n",
       "      <td>Rüdigerstraße</td>\n",
       "      <td>2019</td>\n",
       "      <td>12</td>\n",
       "      <td>18</td>\n",
       "      <td>4</td>\n",
       "      <td>2</td>\n",
       "      <td>...</td>\n",
       "      <td>0</td>\n",
       "      <td>1</td>\n",
       "      <td>0</td>\n",
       "      <td>0</td>\n",
       "      <td>0</td>\n",
       "      <td>805189.9710</td>\n",
       "      <td>5827912.648</td>\n",
       "      <td>13.49862</td>\n",
       "      <td>52.51569</td>\n",
       "      <td>POINT (13.49862 52.51569)</td>\n",
       "    </tr>\n",
       "    <tr>\n",
       "      <th>13389</th>\n",
       "      <td>202779</td>\n",
       "      <td>11</td>\n",
       "      <td>1</td>\n",
       "      <td>1011202</td>\n",
       "      <td>Unter den Linden Nord</td>\n",
       "      <td>2019</td>\n",
       "      <td>12</td>\n",
       "      <td>14</td>\n",
       "      <td>4</td>\n",
       "      <td>3</td>\n",
       "      <td>...</td>\n",
       "      <td>0</td>\n",
       "      <td>0</td>\n",
       "      <td>0</td>\n",
       "      <td>0</td>\n",
       "      <td>0</td>\n",
       "      <td>797197.6797</td>\n",
       "      <td>5827499.898</td>\n",
       "      <td>13.38082</td>\n",
       "      <td>52.51640</td>\n",
       "      <td>POINT (13.38082 52.51640)</td>\n",
       "    </tr>\n",
       "  </tbody>\n",
       "</table>\n",
       "<p>13389 rows × 25 columns</p>\n",
       "</div>"
      ],
      "text/plain": [
       "       OBJECTID  LAND  BEZ       LOR                STRASSE  UJAHR  UMONAT  \\\n",
       "0         49090    11   12  12301203           Wittenau Süd   2019       1   \n",
       "1         49091    11    3   3040818             Pankow Süd   2019       1   \n",
       "2         49093    11   12  12103115        Breitkopfbecken   2019       3   \n",
       "3         49096    11    6   6040703             Nikolassee   2019       1   \n",
       "4         49097    11    7   7030303           Grazer Platz   2019       2   \n",
       "...         ...   ...  ...       ...                    ...    ...     ...   \n",
       "13385    202775    11    1   1011303  Alexanderplatzviertel   2019      12   \n",
       "13386    202776    11    1   1011201          Wilhelmstraße   2019      12   \n",
       "13387    202777    11    1   1011304        Karl-Marx-Allee   2019      12   \n",
       "13388    202778    11   11  11030721          Rüdigerstraße   2019      12   \n",
       "13389    202779    11    1   1011202  Unter den Linden Nord   2019      12   \n",
       "\n",
       "       USTUNDE  UWOCHENTAG  UKATEGORIE  ...  IstFuss  IstKrad  IstGkfz  \\\n",
       "0           13           6           3  ...        0        0        0   \n",
       "1            9           5           3  ...        0        0        0   \n",
       "2           21           6           3  ...        0        0        0   \n",
       "3            7           6           2  ...        1        0        0   \n",
       "4           15           3           3  ...        0        0        0   \n",
       "...        ...         ...         ...  ...      ...      ...      ...   \n",
       "13385       15           2           3  ...        1        0        0   \n",
       "13386       14           2           3  ...        0        0        0   \n",
       "13387       14           2           3  ...        0        0        0   \n",
       "13388       18           4           2  ...        0        1        0   \n",
       "13389       14           4           3  ...        0        0        0   \n",
       "\n",
       "       IstSonstige  USTRZUSTAND      LINREFX      LINREFY  XGCSWGS84  \\\n",
       "0                0            1  794062.2837  5835083.823   13.34146   \n",
       "1                0            0  799130.4007  5832327.415   13.41356   \n",
       "2                0            0  795437.6130  5833549.454   13.36034   \n",
       "3                0            1  786714.3754  5817042.137   13.21777   \n",
       "4                0            0  796074.3342  5822724.905   13.36007   \n",
       "...            ...          ...          ...          ...        ...   \n",
       "13385            0            0  799498.0190  5828344.449   13.41538   \n",
       "13386            0            0  797455.1835  5827060.276   13.38421   \n",
       "13387            1            0  799730.8820  5827547.138   13.41808   \n",
       "13388            0            0  805189.9710  5827912.648   13.49862   \n",
       "13389            0            0  797197.6797  5827499.898   13.38082   \n",
       "\n",
       "       YGCSWGS84                   geometry  \n",
       "0       52.58609  POINT (13.34146 52.58609)  \n",
       "1       52.55862  POINT (13.41356 52.55862)  \n",
       "2       52.57159  POINT (13.36034 52.57159)  \n",
       "3       52.42825  POINT (13.21777 52.42825)  \n",
       "4       52.47421  POINT (13.36007 52.47421)  \n",
       "...          ...                        ...  \n",
       "13385   52.52271  POINT (13.41538 52.52271)  \n",
       "13386   52.51232  POINT (13.38421 52.51232)  \n",
       "13387   52.51544  POINT (13.41808 52.51544)  \n",
       "13388   52.51569  POINT (13.49862 52.51569)  \n",
       "13389   52.51640  POINT (13.38082 52.51640)  \n",
       "\n",
       "[13389 rows x 25 columns]"
      ]
     },
     "execution_count": 34,
     "metadata": {},
     "output_type": "execute_result"
    }
   ],
   "source": [
    "# read it back\n",
    "gdf2 = pd.read_pickle(f\"{OUTPUT_FILE_NAME_STEM}.pickle\")\n",
    "gdf2"
   ]
  },
  {
   "cell_type": "code",
   "execution_count": 35,
   "metadata": {},
   "outputs": [
    {
     "data": {
      "text/plain": [
       "geopandas.geodataframe.GeoDataFrame"
      ]
     },
     "execution_count": 35,
     "metadata": {},
     "output_type": "execute_result"
    }
   ],
   "source": [
    "type(gdf2)"
   ]
  },
  {
   "cell_type": "code",
   "execution_count": 36,
   "metadata": {},
   "outputs": [
    {
     "data": {
      "text/plain": [
       "<AxesSubplot:>"
      ]
     },
     "execution_count": 36,
     "metadata": {},
     "output_type": "execute_result"
    },
    {
     "data": {
      "image/png": "[encoded data removed]",
      "text/plain": [
       "<Figure size 432x288 with 1 Axes>"
      ]
     },
     "metadata": {
      "needs_background": "light"
     },
     "output_type": "display_data"
    }
   ],
   "source": [
    "gdf2.plot()"
   ]
  },
  {
   "cell_type": "markdown",
   "metadata": {},
   "source": [
    "## .shp \n",
    "\n",
    "This takes a bit longer (maybe 3 seconds) and creates several files, with a total of about 7 MB, so about 2-3 times larger than with the pure geodata frame.\n",
    "\n",
    "* -rw-r--r--  1 abuzatu  staff   2.9M 19 Dec 14:47 berlin_2019_car_accidents.pickle\n",
    "* -rw-r--r--  1 abuzatu  staff    10B 19 Dec 14:49 berlin_2019_car_accidents.cpg\n",
    "* -rw-r--r--  1 abuzatu  staff   145B 19 Dec 14:49 berlin_2019_car_accidents.prj\n",
    "* -rw-r--r--  1 abuzatu  staff   6.6M 19 Dec 14:49 berlin_2019_car_accidents.dbf\n",
    "* -rw-r--r--  1 abuzatu  staff   366K 19 Dec 14:49 berlin_2019_car_accidents.shp\n",
    "* -rw-r--r--  1 abuzatu  staff   105K 19 Dec 14:49 berlin_2019_car_accidents.shx"
   ]
  },
  {
   "cell_type": "code",
   "execution_count": 37,
   "metadata": {},
   "outputs": [],
   "source": [
    "# save the GeoDataFrame\n",
    "gdf.to_file(driver = 'ESRI Shapefile', filename = f\"{OUTPUT_FILE_NAME_STEM}.shp\")\n",
    "# the same output coms if the driver is not specified, as below\n",
    "# gdf.to_file(f\"{OUTPUT_FILE_NAME_STEM}.shp\")"
   ]
  },
  {
   "cell_type": "code",
   "execution_count": 38,
   "metadata": {},
   "outputs": [
    {
     "data": {
      "text/html": [
       "<div>\n",
       "<style scoped>\n",
       "    .dataframe tbody tr th:only-of-type {\n",
       "        vertical-align: middle;\n",
       "    }\n",
       "\n",
       "    .dataframe tbody tr th {\n",
       "        vertical-align: top;\n",
       "    }\n",
       "\n",
       "    .dataframe thead th {\n",
       "        text-align: right;\n",
       "    }\n",
       "</style>\n",
       "<table border=\"1\" class=\"dataframe\">\n",
       "  <thead>\n",
       "    <tr style=\"text-align: right;\">\n",
       "      <th></th>\n",
       "      <th>OBJECTID</th>\n",
       "      <th>LAND</th>\n",
       "      <th>BEZ</th>\n",
       "      <th>LOR</th>\n",
       "      <th>STRASSE</th>\n",
       "      <th>UJAHR</th>\n",
       "      <th>UMONAT</th>\n",
       "      <th>USTUNDE</th>\n",
       "      <th>UWOCHENTAG</th>\n",
       "      <th>UKATEGORIE</th>\n",
       "      <th>...</th>\n",
       "      <th>IstFuss</th>\n",
       "      <th>IstKrad</th>\n",
       "      <th>IstGkfz</th>\n",
       "      <th>IstSonstig</th>\n",
       "      <th>USTRZUSTAN</th>\n",
       "      <th>LINREFX</th>\n",
       "      <th>LINREFY</th>\n",
       "      <th>XGCSWGS84</th>\n",
       "      <th>YGCSWGS84</th>\n",
       "      <th>geometry</th>\n",
       "    </tr>\n",
       "  </thead>\n",
       "  <tbody>\n",
       "    <tr>\n",
       "      <th>0</th>\n",
       "      <td>49090</td>\n",
       "      <td>11</td>\n",
       "      <td>12</td>\n",
       "      <td>12301203</td>\n",
       "      <td>Wittenau Süd</td>\n",
       "      <td>2019</td>\n",
       "      <td>1</td>\n",
       "      <td>13</td>\n",
       "      <td>6</td>\n",
       "      <td>3</td>\n",
       "      <td>...</td>\n",
       "      <td>0</td>\n",
       "      <td>0</td>\n",
       "      <td>0</td>\n",
       "      <td>0</td>\n",
       "      <td>1</td>\n",
       "      <td>794062.2837</td>\n",
       "      <td>5835083.823</td>\n",
       "      <td>13.34146</td>\n",
       "      <td>52.58609</td>\n",
       "      <td>POINT (13.34146 52.58609)</td>\n",
       "    </tr>\n",
       "    <tr>\n",
       "      <th>1</th>\n",
       "      <td>49091</td>\n",
       "      <td>11</td>\n",
       "      <td>3</td>\n",
       "      <td>3040818</td>\n",
       "      <td>Pankow Süd</td>\n",
       "      <td>2019</td>\n",
       "      <td>1</td>\n",
       "      <td>9</td>\n",
       "      <td>5</td>\n",
       "      <td>3</td>\n",
       "      <td>...</td>\n",
       "      <td>0</td>\n",
       "      <td>0</td>\n",
       "      <td>0</td>\n",
       "      <td>0</td>\n",
       "      <td>0</td>\n",
       "      <td>799130.4007</td>\n",
       "      <td>5832327.415</td>\n",
       "      <td>13.41356</td>\n",
       "      <td>52.55862</td>\n",
       "      <td>POINT (13.41356 52.55862)</td>\n",
       "    </tr>\n",
       "    <tr>\n",
       "      <th>2</th>\n",
       "      <td>49093</td>\n",
       "      <td>11</td>\n",
       "      <td>12</td>\n",
       "      <td>12103115</td>\n",
       "      <td>Breitkopfbecken</td>\n",
       "      <td>2019</td>\n",
       "      <td>3</td>\n",
       "      <td>21</td>\n",
       "      <td>6</td>\n",
       "      <td>3</td>\n",
       "      <td>...</td>\n",
       "      <td>0</td>\n",
       "      <td>0</td>\n",
       "      <td>0</td>\n",
       "      <td>0</td>\n",
       "      <td>0</td>\n",
       "      <td>795437.6130</td>\n",
       "      <td>5833549.454</td>\n",
       "      <td>13.36034</td>\n",
       "      <td>52.57159</td>\n",
       "      <td>POINT (13.36034 52.57159)</td>\n",
       "    </tr>\n",
       "    <tr>\n",
       "      <th>3</th>\n",
       "      <td>49096</td>\n",
       "      <td>11</td>\n",
       "      <td>6</td>\n",
       "      <td>6040703</td>\n",
       "      <td>Nikolassee</td>\n",
       "      <td>2019</td>\n",
       "      <td>1</td>\n",
       "      <td>7</td>\n",
       "      <td>6</td>\n",
       "      <td>2</td>\n",
       "      <td>...</td>\n",
       "      <td>1</td>\n",
       "      <td>0</td>\n",
       "      <td>0</td>\n",
       "      <td>0</td>\n",
       "      <td>1</td>\n",
       "      <td>786714.3754</td>\n",
       "      <td>5817042.137</td>\n",
       "      <td>13.21777</td>\n",
       "      <td>52.42825</td>\n",
       "      <td>POINT (13.21777 52.42825)</td>\n",
       "    </tr>\n",
       "    <tr>\n",
       "      <th>4</th>\n",
       "      <td>49097</td>\n",
       "      <td>11</td>\n",
       "      <td>7</td>\n",
       "      <td>7030303</td>\n",
       "      <td>Grazer Platz</td>\n",
       "      <td>2019</td>\n",
       "      <td>2</td>\n",
       "      <td>15</td>\n",
       "      <td>3</td>\n",
       "      <td>3</td>\n",
       "      <td>...</td>\n",
       "      <td>0</td>\n",
       "      <td>0</td>\n",
       "      <td>0</td>\n",
       "      <td>0</td>\n",
       "      <td>0</td>\n",
       "      <td>796074.3342</td>\n",
       "      <td>5822724.905</td>\n",
       "      <td>13.36007</td>\n",
       "      <td>52.47421</td>\n",
       "      <td>POINT (13.36007 52.47421)</td>\n",
       "    </tr>\n",
       "  </tbody>\n",
       "</table>\n",
       "<p>5 rows × 25 columns</p>\n",
       "</div>"
      ],
      "text/plain": [
       "   OBJECTID  LAND  BEZ       LOR          STRASSE  UJAHR  UMONAT  USTUNDE  \\\n",
       "0     49090    11   12  12301203     Wittenau Süd   2019       1       13   \n",
       "1     49091    11    3   3040818       Pankow Süd   2019       1        9   \n",
       "2     49093    11   12  12103115  Breitkopfbecken   2019       3       21   \n",
       "3     49096    11    6   6040703       Nikolassee   2019       1        7   \n",
       "4     49097    11    7   7030303     Grazer Platz   2019       2       15   \n",
       "\n",
       "   UWOCHENTAG  UKATEGORIE  ...  IstFuss  IstKrad  IstGkfz  IstSonstig  \\\n",
       "0           6           3  ...        0        0        0           0   \n",
       "1           5           3  ...        0        0        0           0   \n",
       "2           6           3  ...        0        0        0           0   \n",
       "3           6           2  ...        1        0        0           0   \n",
       "4           3           3  ...        0        0        0           0   \n",
       "\n",
       "   USTRZUSTAN      LINREFX      LINREFY  XGCSWGS84  YGCSWGS84  \\\n",
       "0           1  794062.2837  5835083.823   13.34146   52.58609   \n",
       "1           0  799130.4007  5832327.415   13.41356   52.55862   \n",
       "2           0  795437.6130  5833549.454   13.36034   52.57159   \n",
       "3           1  786714.3754  5817042.137   13.21777   52.42825   \n",
       "4           0  796074.3342  5822724.905   13.36007   52.47421   \n",
       "\n",
       "                    geometry  \n",
       "0  POINT (13.34146 52.58609)  \n",
       "1  POINT (13.41356 52.55862)  \n",
       "2  POINT (13.36034 52.57159)  \n",
       "3  POINT (13.21777 52.42825)  \n",
       "4  POINT (13.36007 52.47421)  \n",
       "\n",
       "[5 rows x 25 columns]"
      ]
     },
     "execution_count": 38,
     "metadata": {},
     "output_type": "execute_result"
    }
   ],
   "source": [
    "gdf2 = gpd.read_file(f\"{OUTPUT_FILE_NAME_STEM}.shp\")\n",
    "gdf2.head()"
   ]
  },
  {
   "cell_type": "code",
   "execution_count": 39,
   "metadata": {},
   "outputs": [
    {
     "data": {
      "text/plain": [
       "geopandas.geodataframe.GeoDataFrame"
      ]
     },
     "execution_count": 39,
     "metadata": {},
     "output_type": "execute_result"
    }
   ],
   "source": [
    "type(gdf2)"
   ]
  },
  {
   "cell_type": "code",
   "execution_count": 40,
   "metadata": {},
   "outputs": [
    {
     "data": {
      "text/plain": [
       "<AxesSubplot:>"
      ]
     },
     "execution_count": 40,
     "metadata": {},
     "output_type": "execute_result"
    },
    {
     "data": {
      "image/png": "[encoded data removed]",
      "text/plain": [
       "<Figure size 432x288 with 1 Axes>"
      ]
     },
     "metadata": {
      "needs_background": "light"
     },
     "output_type": "display_data"
    }
   ],
   "source": [
    "gdf2.plot()"
   ]
  },
  {
   "cell_type": "code",
   "execution_count": 41,
   "metadata": {},
   "outputs": [],
   "source": [
    "# or directly\n",
    "gdf.to_file(f\"{OUTPUT_FILE_NAME_STEM}_2.shp\")"
   ]
  }
 ],
 "metadata": {
  "kernelspec": {
   "display_name": "Python 3",
   "language": "python",
   "name": "python3"
  },
  "language_info": {
   "codemirror_mode": {
    "name": "ipython",
    "version": 3
   },
   "file_extension": ".py",
   "mimetype": "text/x-python",
   "name": "python",
   "nbconvert_exporter": "python",
   "pygments_lexer": "ipython3",
   "version": "3.9.0"
  }
 },
 "nbformat": 4,
 "nbformat_minor": 2
}
