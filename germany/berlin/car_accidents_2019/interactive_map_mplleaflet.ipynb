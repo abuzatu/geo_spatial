{
 "cells": [
  {
   "cell_type": "markdown",
   "metadata": {},
   "source": [
    "# Interactive map with mplleaflet\n",
    "\n",
    "The library name stands for `matplotlib leaflet`. The library is found [here](https://github.com/jwass/mplleaflet) and an example [here](https://nbviewer.ipython.org/github/jwass/mplleaflet/blob/master/examples/NYC%20Boroughs.ipynb)."
   ]
  },
  {
   "cell_type": "code",
   "execution_count": 1,
   "metadata": {},
   "outputs": [],
   "source": [
    "INPUT_FOLDER_NAME = \"/Users/abuzatu/Work/data/geo_spatial/Germany/Berlin/Accidents_Car_2019\"\n",
    "INPUT_FILE_NAME = f\"{INPUT_FOLDER_NAME}/berlin_2019_car_accidents.pickle\""
   ]
  },
  {
   "cell_type": "code",
   "execution_count": 2,
   "metadata": {},
   "outputs": [],
   "source": [
    "import numpy as np\n",
    "import pandas as pd\n",
    "import geopandas as gpd\n",
    "import matplotlib.pyplot as plt\n",
    "import mplleaflet"
   ]
  },
  {
   "cell_type": "code",
   "execution_count": 3,
   "metadata": {},
   "outputs": [
    {
     "data": {
      "text/html": [
       "<div>\n",
       "<style scoped>\n",
       "    .dataframe tbody tr th:only-of-type {\n",
       "        vertical-align: middle;\n",
       "    }\n",
       "\n",
       "    .dataframe tbody tr th {\n",
       "        vertical-align: top;\n",
       "    }\n",
       "\n",
       "    .dataframe thead th {\n",
       "        text-align: right;\n",
       "    }\n",
       "</style>\n",
       "<table border=\"1\" class=\"dataframe\">\n",
       "  <thead>\n",
       "    <tr style=\"text-align: right;\">\n",
       "      <th></th>\n",
       "      <th>OBJECTID</th>\n",
       "      <th>LAND</th>\n",
       "      <th>BEZ</th>\n",
       "      <th>LOR</th>\n",
       "      <th>STRASSE</th>\n",
       "      <th>UJAHR</th>\n",
       "      <th>UMONAT</th>\n",
       "      <th>USTUNDE</th>\n",
       "      <th>UWOCHENTAG</th>\n",
       "      <th>UKATEGORIE</th>\n",
       "      <th>...</th>\n",
       "      <th>IstFuss</th>\n",
       "      <th>IstKrad</th>\n",
       "      <th>IstGkfz</th>\n",
       "      <th>IstSonstige</th>\n",
       "      <th>USTRZUSTAND</th>\n",
       "      <th>LINREFX</th>\n",
       "      <th>LINREFY</th>\n",
       "      <th>XGCSWGS84</th>\n",
       "      <th>YGCSWGS84</th>\n",
       "      <th>geometry</th>\n",
       "    </tr>\n",
       "  </thead>\n",
       "  <tbody>\n",
       "    <tr>\n",
       "      <th>0</th>\n",
       "      <td>49090</td>\n",
       "      <td>11</td>\n",
       "      <td>12</td>\n",
       "      <td>12301203</td>\n",
       "      <td>Wittenau Süd</td>\n",
       "      <td>2019</td>\n",
       "      <td>1</td>\n",
       "      <td>13</td>\n",
       "      <td>6</td>\n",
       "      <td>3</td>\n",
       "      <td>...</td>\n",
       "      <td>0</td>\n",
       "      <td>0</td>\n",
       "      <td>0</td>\n",
       "      <td>0</td>\n",
       "      <td>1</td>\n",
       "      <td>794062.2837</td>\n",
       "      <td>5835083.823</td>\n",
       "      <td>13.34146</td>\n",
       "      <td>52.58609</td>\n",
       "      <td>POINT (13.34146 52.58609)</td>\n",
       "    </tr>\n",
       "    <tr>\n",
       "      <th>1</th>\n",
       "      <td>49091</td>\n",
       "      <td>11</td>\n",
       "      <td>3</td>\n",
       "      <td>3040818</td>\n",
       "      <td>Pankow Süd</td>\n",
       "      <td>2019</td>\n",
       "      <td>1</td>\n",
       "      <td>9</td>\n",
       "      <td>5</td>\n",
       "      <td>3</td>\n",
       "      <td>...</td>\n",
       "      <td>0</td>\n",
       "      <td>0</td>\n",
       "      <td>0</td>\n",
       "      <td>0</td>\n",
       "      <td>0</td>\n",
       "      <td>799130.4007</td>\n",
       "      <td>5832327.415</td>\n",
       "      <td>13.41356</td>\n",
       "      <td>52.55862</td>\n",
       "      <td>POINT (13.41356 52.55862)</td>\n",
       "    </tr>\n",
       "    <tr>\n",
       "      <th>2</th>\n",
       "      <td>49093</td>\n",
       "      <td>11</td>\n",
       "      <td>12</td>\n",
       "      <td>12103115</td>\n",
       "      <td>Breitkopfbecken</td>\n",
       "      <td>2019</td>\n",
       "      <td>3</td>\n",
       "      <td>21</td>\n",
       "      <td>6</td>\n",
       "      <td>3</td>\n",
       "      <td>...</td>\n",
       "      <td>0</td>\n",
       "      <td>0</td>\n",
       "      <td>0</td>\n",
       "      <td>0</td>\n",
       "      <td>0</td>\n",
       "      <td>795437.6130</td>\n",
       "      <td>5833549.454</td>\n",
       "      <td>13.36034</td>\n",
       "      <td>52.57159</td>\n",
       "      <td>POINT (13.36034 52.57159)</td>\n",
       "    </tr>\n",
       "    <tr>\n",
       "      <th>3</th>\n",
       "      <td>49096</td>\n",
       "      <td>11</td>\n",
       "      <td>6</td>\n",
       "      <td>6040703</td>\n",
       "      <td>Nikolassee</td>\n",
       "      <td>2019</td>\n",
       "      <td>1</td>\n",
       "      <td>7</td>\n",
       "      <td>6</td>\n",
       "      <td>2</td>\n",
       "      <td>...</td>\n",
       "      <td>1</td>\n",
       "      <td>0</td>\n",
       "      <td>0</td>\n",
       "      <td>0</td>\n",
       "      <td>1</td>\n",
       "      <td>786714.3754</td>\n",
       "      <td>5817042.137</td>\n",
       "      <td>13.21777</td>\n",
       "      <td>52.42825</td>\n",
       "      <td>POINT (13.21777 52.42825)</td>\n",
       "    </tr>\n",
       "    <tr>\n",
       "      <th>4</th>\n",
       "      <td>49097</td>\n",
       "      <td>11</td>\n",
       "      <td>7</td>\n",
       "      <td>7030303</td>\n",
       "      <td>Grazer Platz</td>\n",
       "      <td>2019</td>\n",
       "      <td>2</td>\n",
       "      <td>15</td>\n",
       "      <td>3</td>\n",
       "      <td>3</td>\n",
       "      <td>...</td>\n",
       "      <td>0</td>\n",
       "      <td>0</td>\n",
       "      <td>0</td>\n",
       "      <td>0</td>\n",
       "      <td>0</td>\n",
       "      <td>796074.3342</td>\n",
       "      <td>5822724.905</td>\n",
       "      <td>13.36007</td>\n",
       "      <td>52.47421</td>\n",
       "      <td>POINT (13.36007 52.47421)</td>\n",
       "    </tr>\n",
       "  </tbody>\n",
       "</table>\n",
       "<p>5 rows × 25 columns</p>\n",
       "</div>"
      ],
      "text/plain": [
       "   OBJECTID  LAND  BEZ       LOR          STRASSE  UJAHR  UMONAT  USTUNDE  \\\n",
       "0     49090    11   12  12301203     Wittenau Süd   2019       1       13   \n",
       "1     49091    11    3   3040818       Pankow Süd   2019       1        9   \n",
       "2     49093    11   12  12103115  Breitkopfbecken   2019       3       21   \n",
       "3     49096    11    6   6040703       Nikolassee   2019       1        7   \n",
       "4     49097    11    7   7030303     Grazer Platz   2019       2       15   \n",
       "\n",
       "   UWOCHENTAG  UKATEGORIE  ...  IstFuss  IstKrad  IstGkfz  IstSonstige  \\\n",
       "0           6           3  ...        0        0        0            0   \n",
       "1           5           3  ...        0        0        0            0   \n",
       "2           6           3  ...        0        0        0            0   \n",
       "3           6           2  ...        1        0        0            0   \n",
       "4           3           3  ...        0        0        0            0   \n",
       "\n",
       "   USTRZUSTAND      LINREFX      LINREFY  XGCSWGS84  YGCSWGS84  \\\n",
       "0            1  794062.2837  5835083.823   13.34146   52.58609   \n",
       "1            0  799130.4007  5832327.415   13.41356   52.55862   \n",
       "2            0  795437.6130  5833549.454   13.36034   52.57159   \n",
       "3            1  786714.3754  5817042.137   13.21777   52.42825   \n",
       "4            0  796074.3342  5822724.905   13.36007   52.47421   \n",
       "\n",
       "                    geometry  \n",
       "0  POINT (13.34146 52.58609)  \n",
       "1  POINT (13.41356 52.55862)  \n",
       "2  POINT (13.36034 52.57159)  \n",
       "3  POINT (13.21777 52.42825)  \n",
       "4  POINT (13.36007 52.47421)  \n",
       "\n",
       "[5 rows x 25 columns]"
      ]
     },
     "execution_count": 3,
     "metadata": {},
     "output_type": "execute_result"
    }
   ],
   "source": [
    "gdf_accident = pd.read_pickle(INPUT_FILE_NAME)\n",
    "gdf_accident.head()"
   ]
  },
  {
   "cell_type": "code",
   "execution_count": 4,
   "metadata": {},
   "outputs": [
    {
     "data": {
      "image/png": "[encoded data removed]",
      "text/plain": [
       "<Figure size 432x288 with 1 Axes>"
      ]
     },
     "metadata": {
      "needs_background": "light"
     },
     "output_type": "display_data"
    }
   ],
   "source": [
    "ax = gdf_accident.plot()"
   ]
  },
  {
   "cell_type": "code",
   "execution_count": 5,
   "metadata": {},
   "outputs": [
    {
     "data": {
      "text/plain": [
       "geopandas.geodataframe.GeoDataFrame"
      ]
     },
     "execution_count": 5,
     "metadata": {},
     "output_type": "execute_result"
    }
   ],
   "source": [
    "type(gdf_accident)"
   ]
  },
  {
   "cell_type": "code",
   "execution_count": 6,
   "metadata": {},
   "outputs": [],
   "source": [
    "# The display call inserts the html in the IPython notebook.\n",
    "# An interactive, panable, zoomable map.\n",
    "# mplleaflet.display(fig = ax.figure, crs = gdf_accident.crs) # but this does not work"
   ]
  },
  {
   "cell_type": "code",
   "execution_count": 7,
   "metadata": {},
   "outputs": [],
   "source": [
    "# opens an interactive map in the browser, but nothing is drawn on it\n",
    "mplleaflet.show()"
   ]
  }
 ],
 "metadata": {
  "kernelspec": {
   "display_name": "Python 3",
   "language": "python",
   "name": "python3"
  },
  "language_info": {
   "codemirror_mode": {
    "name": "ipython",
    "version": 3
   },
   "file_extension": ".py",
   "mimetype": "text/x-python",
   "name": "python",
   "nbconvert_exporter": "python",
   "pygments_lexer": "ipython3",
   "version": "3.9.0"
  }
 },
 "nbformat": 4,
 "nbformat_minor": 4
}
